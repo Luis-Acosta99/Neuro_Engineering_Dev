{
 "cells": [
  {
   "cell_type": "markdown",
   "id": "7ce426c2-d82f-4eb3-9d52-7706cdc0afb5",
   "metadata": {},
   "source": [
    "# Requirements"
   ]
  },
  {
   "cell_type": "code",
   "execution_count": 1,
   "id": "d5a331ae-5b37-4145-aa7e-25a5fb09906a",
   "metadata": {
    "collapsed": true,
    "jupyter": {
     "outputs_hidden": true,
     "source_hidden": true
    }
   },
   "outputs": [
    {
     "name": "stdout",
     "output_type": "stream",
     "text": [
      "Requirement already satisfied: mne in /Library/Frameworks/Python.framework/Versions/3.11/lib/python3.11/site-packages (1.6.0)\n",
      "Requirement already satisfied: numpy>=1.21.2 in /Library/Frameworks/Python.framework/Versions/3.11/lib/python3.11/site-packages (from mne) (1.26.2)\n",
      "Requirement already satisfied: scipy>=1.7.1 in /Library/Frameworks/Python.framework/Versions/3.11/lib/python3.11/site-packages (from mne) (1.11.4)\n",
      "Requirement already satisfied: matplotlib>=3.5.0 in /Library/Frameworks/Python.framework/Versions/3.11/lib/python3.11/site-packages (from mne) (3.8.2)\n",
      "Requirement already satisfied: tqdm in /Library/Frameworks/Python.framework/Versions/3.11/lib/python3.11/site-packages (from mne) (4.66.1)\n",
      "Requirement already satisfied: pooch>=1.5 in /Library/Frameworks/Python.framework/Versions/3.11/lib/python3.11/site-packages (from mne) (1.8.0)\n",
      "Requirement already satisfied: decorator in /Library/Frameworks/Python.framework/Versions/3.11/lib/python3.11/site-packages (from mne) (5.1.1)\n",
      "Requirement already satisfied: packaging in /Library/Frameworks/Python.framework/Versions/3.11/lib/python3.11/site-packages (from mne) (23.2)\n",
      "Requirement already satisfied: jinja2 in /Library/Frameworks/Python.framework/Versions/3.11/lib/python3.11/site-packages (from mne) (3.1.2)\n",
      "Requirement already satisfied: lazy-loader>=0.3 in /Library/Frameworks/Python.framework/Versions/3.11/lib/python3.11/site-packages (from mne) (0.3)\n",
      "Requirement already satisfied: defusedxml in /Library/Frameworks/Python.framework/Versions/3.11/lib/python3.11/site-packages (from mne) (0.7.1)\n",
      "Requirement already satisfied: contourpy>=1.0.1 in /Library/Frameworks/Python.framework/Versions/3.11/lib/python3.11/site-packages (from matplotlib>=3.5.0->mne) (1.2.0)\n",
      "Requirement already satisfied: cycler>=0.10 in /Library/Frameworks/Python.framework/Versions/3.11/lib/python3.11/site-packages (from matplotlib>=3.5.0->mne) (0.12.1)\n",
      "Requirement already satisfied: fonttools>=4.22.0 in /Library/Frameworks/Python.framework/Versions/3.11/lib/python3.11/site-packages (from matplotlib>=3.5.0->mne) (4.45.0)\n",
      "Requirement already satisfied: kiwisolver>=1.3.1 in /Library/Frameworks/Python.framework/Versions/3.11/lib/python3.11/site-packages (from matplotlib>=3.5.0->mne) (1.4.5)\n",
      "Requirement already satisfied: pillow>=8 in /Library/Frameworks/Python.framework/Versions/3.11/lib/python3.11/site-packages (from matplotlib>=3.5.0->mne) (10.1.0)\n",
      "Requirement already satisfied: pyparsing>=2.3.1 in /Library/Frameworks/Python.framework/Versions/3.11/lib/python3.11/site-packages (from matplotlib>=3.5.0->mne) (3.1.1)\n",
      "Requirement already satisfied: python-dateutil>=2.7 in /Library/Frameworks/Python.framework/Versions/3.11/lib/python3.11/site-packages (from matplotlib>=3.5.0->mne) (2.8.2)\n",
      "Requirement already satisfied: platformdirs>=2.5.0 in /Library/Frameworks/Python.framework/Versions/3.11/lib/python3.11/site-packages (from pooch>=1.5->mne) (4.0.0)\n",
      "Requirement already satisfied: requests>=2.19.0 in /Library/Frameworks/Python.framework/Versions/3.11/lib/python3.11/site-packages (from pooch>=1.5->mne) (2.31.0)\n",
      "Requirement already satisfied: MarkupSafe>=2.0 in /Library/Frameworks/Python.framework/Versions/3.11/lib/python3.11/site-packages (from jinja2->mne) (2.1.3)\n",
      "Requirement already satisfied: six>=1.5 in /Library/Frameworks/Python.framework/Versions/3.11/lib/python3.11/site-packages (from python-dateutil>=2.7->matplotlib>=3.5.0->mne) (1.16.0)\n",
      "Requirement already satisfied: charset-normalizer<4,>=2 in /Library/Frameworks/Python.framework/Versions/3.11/lib/python3.11/site-packages (from requests>=2.19.0->pooch>=1.5->mne) (3.3.2)\n",
      "Requirement already satisfied: idna<4,>=2.5 in /Library/Frameworks/Python.framework/Versions/3.11/lib/python3.11/site-packages (from requests>=2.19.0->pooch>=1.5->mne) (3.4)\n",
      "Requirement already satisfied: urllib3<3,>=1.21.1 in /Library/Frameworks/Python.framework/Versions/3.11/lib/python3.11/site-packages (from requests>=2.19.0->pooch>=1.5->mne) (2.1.0)\n",
      "Requirement already satisfied: certifi>=2017.4.17 in /Library/Frameworks/Python.framework/Versions/3.11/lib/python3.11/site-packages (from requests>=2.19.0->pooch>=1.5->mne) (2023.11.17)\n",
      "Requirement already satisfied: pandas in /Library/Frameworks/Python.framework/Versions/3.11/lib/python3.11/site-packages (2.1.3)\n",
      "Requirement already satisfied: numpy<2,>=1.23.2 in /Library/Frameworks/Python.framework/Versions/3.11/lib/python3.11/site-packages (from pandas) (1.26.2)\n",
      "Requirement already satisfied: python-dateutil>=2.8.2 in /Library/Frameworks/Python.framework/Versions/3.11/lib/python3.11/site-packages (from pandas) (2.8.2)\n",
      "Requirement already satisfied: pytz>=2020.1 in /Library/Frameworks/Python.framework/Versions/3.11/lib/python3.11/site-packages (from pandas) (2023.3.post1)\n",
      "Requirement already satisfied: tzdata>=2022.1 in /Library/Frameworks/Python.framework/Versions/3.11/lib/python3.11/site-packages (from pandas) (2023.3)\n",
      "Requirement already satisfied: six>=1.5 in /Library/Frameworks/Python.framework/Versions/3.11/lib/python3.11/site-packages (from python-dateutil>=2.8.2->pandas) (1.16.0)\n",
      "Requirement already satisfied: numpy in /Library/Frameworks/Python.framework/Versions/3.11/lib/python3.11/site-packages (1.26.2)\n",
      "Requirement already satisfied: mne-icalabel in /Library/Frameworks/Python.framework/Versions/3.11/lib/python3.11/site-packages (0.5.1)\n",
      "Requirement already satisfied: mne>=1.2 in /Library/Frameworks/Python.framework/Versions/3.11/lib/python3.11/site-packages (from mne-icalabel) (1.6.0)\n",
      "Requirement already satisfied: numpy>=1.21 in /Library/Frameworks/Python.framework/Versions/3.11/lib/python3.11/site-packages (from mne-icalabel) (1.26.2)\n",
      "Requirement already satisfied: packaging in /Library/Frameworks/Python.framework/Versions/3.11/lib/python3.11/site-packages (from mne-icalabel) (23.2)\n",
      "Requirement already satisfied: pooch in /Library/Frameworks/Python.framework/Versions/3.11/lib/python3.11/site-packages (from mne-icalabel) (1.8.0)\n",
      "Requirement already satisfied: psutil in /Library/Frameworks/Python.framework/Versions/3.11/lib/python3.11/site-packages (from mne-icalabel) (5.9.6)\n",
      "Requirement already satisfied: scipy>=1.4.0 in /Library/Frameworks/Python.framework/Versions/3.11/lib/python3.11/site-packages (from mne-icalabel) (1.11.4)\n",
      "Requirement already satisfied: matplotlib>=3.5.0 in /Library/Frameworks/Python.framework/Versions/3.11/lib/python3.11/site-packages (from mne>=1.2->mne-icalabel) (3.8.2)\n",
      "Requirement already satisfied: tqdm in /Library/Frameworks/Python.framework/Versions/3.11/lib/python3.11/site-packages (from mne>=1.2->mne-icalabel) (4.66.1)\n",
      "Requirement already satisfied: decorator in /Library/Frameworks/Python.framework/Versions/3.11/lib/python3.11/site-packages (from mne>=1.2->mne-icalabel) (5.1.1)\n",
      "Requirement already satisfied: jinja2 in /Library/Frameworks/Python.framework/Versions/3.11/lib/python3.11/site-packages (from mne>=1.2->mne-icalabel) (3.1.2)\n",
      "Requirement already satisfied: lazy-loader>=0.3 in /Library/Frameworks/Python.framework/Versions/3.11/lib/python3.11/site-packages (from mne>=1.2->mne-icalabel) (0.3)\n",
      "Requirement already satisfied: defusedxml in /Library/Frameworks/Python.framework/Versions/3.11/lib/python3.11/site-packages (from mne>=1.2->mne-icalabel) (0.7.1)\n",
      "Requirement already satisfied: platformdirs>=2.5.0 in /Library/Frameworks/Python.framework/Versions/3.11/lib/python3.11/site-packages (from pooch->mne-icalabel) (4.0.0)\n",
      "Requirement already satisfied: requests>=2.19.0 in /Library/Frameworks/Python.framework/Versions/3.11/lib/python3.11/site-packages (from pooch->mne-icalabel) (2.31.0)\n",
      "Requirement already satisfied: contourpy>=1.0.1 in /Library/Frameworks/Python.framework/Versions/3.11/lib/python3.11/site-packages (from matplotlib>=3.5.0->mne>=1.2->mne-icalabel) (1.2.0)\n",
      "Requirement already satisfied: cycler>=0.10 in /Library/Frameworks/Python.framework/Versions/3.11/lib/python3.11/site-packages (from matplotlib>=3.5.0->mne>=1.2->mne-icalabel) (0.12.1)\n",
      "Requirement already satisfied: fonttools>=4.22.0 in /Library/Frameworks/Python.framework/Versions/3.11/lib/python3.11/site-packages (from matplotlib>=3.5.0->mne>=1.2->mne-icalabel) (4.45.0)\n",
      "Requirement already satisfied: kiwisolver>=1.3.1 in /Library/Frameworks/Python.framework/Versions/3.11/lib/python3.11/site-packages (from matplotlib>=3.5.0->mne>=1.2->mne-icalabel) (1.4.5)\n",
      "Requirement already satisfied: pillow>=8 in /Library/Frameworks/Python.framework/Versions/3.11/lib/python3.11/site-packages (from matplotlib>=3.5.0->mne>=1.2->mne-icalabel) (10.1.0)\n",
      "Requirement already satisfied: pyparsing>=2.3.1 in /Library/Frameworks/Python.framework/Versions/3.11/lib/python3.11/site-packages (from matplotlib>=3.5.0->mne>=1.2->mne-icalabel) (3.1.1)\n",
      "Requirement already satisfied: python-dateutil>=2.7 in /Library/Frameworks/Python.framework/Versions/3.11/lib/python3.11/site-packages (from matplotlib>=3.5.0->mne>=1.2->mne-icalabel) (2.8.2)\n",
      "Requirement already satisfied: charset-normalizer<4,>=2 in /Library/Frameworks/Python.framework/Versions/3.11/lib/python3.11/site-packages (from requests>=2.19.0->pooch->mne-icalabel) (3.3.2)\n",
      "Requirement already satisfied: idna<4,>=2.5 in /Library/Frameworks/Python.framework/Versions/3.11/lib/python3.11/site-packages (from requests>=2.19.0->pooch->mne-icalabel) (3.4)\n",
      "Requirement already satisfied: urllib3<3,>=1.21.1 in /Library/Frameworks/Python.framework/Versions/3.11/lib/python3.11/site-packages (from requests>=2.19.0->pooch->mne-icalabel) (2.1.0)\n",
      "Requirement already satisfied: certifi>=2017.4.17 in /Library/Frameworks/Python.framework/Versions/3.11/lib/python3.11/site-packages (from requests>=2.19.0->pooch->mne-icalabel) (2023.11.17)\n",
      "Requirement already satisfied: MarkupSafe>=2.0 in /Library/Frameworks/Python.framework/Versions/3.11/lib/python3.11/site-packages (from jinja2->mne>=1.2->mne-icalabel) (2.1.3)\n",
      "Requirement already satisfied: six>=1.5 in /Library/Frameworks/Python.framework/Versions/3.11/lib/python3.11/site-packages (from python-dateutil>=2.7->matplotlib>=3.5.0->mne>=1.2->mne-icalabel) (1.16.0)\n",
      "\u001b[31mERROR: Could not find a version that satisfies the requirement os (from versions: none)\u001b[0m\u001b[31m\n",
      "\u001b[0m\u001b[31mERROR: No matching distribution found for os\u001b[0m\u001b[31m\n",
      "\u001b[0mRequirement already satisfied: scipy in /Library/Frameworks/Python.framework/Versions/3.11/lib/python3.11/site-packages (1.11.4)\n",
      "Requirement already satisfied: numpy<1.28.0,>=1.21.6 in /Library/Frameworks/Python.framework/Versions/3.11/lib/python3.11/site-packages (from scipy) (1.26.2)\n",
      "Requirement already satisfied: matplotlib in /Library/Frameworks/Python.framework/Versions/3.11/lib/python3.11/site-packages (3.8.2)\n",
      "Requirement already satisfied: contourpy>=1.0.1 in /Library/Frameworks/Python.framework/Versions/3.11/lib/python3.11/site-packages (from matplotlib) (1.2.0)\n",
      "Requirement already satisfied: cycler>=0.10 in /Library/Frameworks/Python.framework/Versions/3.11/lib/python3.11/site-packages (from matplotlib) (0.12.1)\n",
      "Requirement already satisfied: fonttools>=4.22.0 in /Library/Frameworks/Python.framework/Versions/3.11/lib/python3.11/site-packages (from matplotlib) (4.45.0)\n",
      "Requirement already satisfied: kiwisolver>=1.3.1 in /Library/Frameworks/Python.framework/Versions/3.11/lib/python3.11/site-packages (from matplotlib) (1.4.5)\n",
      "Requirement already satisfied: numpy<2,>=1.21 in /Library/Frameworks/Python.framework/Versions/3.11/lib/python3.11/site-packages (from matplotlib) (1.26.2)\n",
      "Requirement already satisfied: packaging>=20.0 in /Library/Frameworks/Python.framework/Versions/3.11/lib/python3.11/site-packages (from matplotlib) (23.2)\n",
      "Requirement already satisfied: pillow>=8 in /Library/Frameworks/Python.framework/Versions/3.11/lib/python3.11/site-packages (from matplotlib) (10.1.0)\n",
      "Requirement already satisfied: pyparsing>=2.3.1 in /Library/Frameworks/Python.framework/Versions/3.11/lib/python3.11/site-packages (from matplotlib) (3.1.1)\n",
      "Requirement already satisfied: python-dateutil>=2.7 in /Library/Frameworks/Python.framework/Versions/3.11/lib/python3.11/site-packages (from matplotlib) (2.8.2)\n",
      "Requirement already satisfied: six>=1.5 in /Library/Frameworks/Python.framework/Versions/3.11/lib/python3.11/site-packages (from python-dateutil>=2.7->matplotlib) (1.16.0)\n",
      "Requirement already satisfied: torch in /Library/Frameworks/Python.framework/Versions/3.11/lib/python3.11/site-packages (2.2.0)\n",
      "Requirement already satisfied: filelock in /Library/Frameworks/Python.framework/Versions/3.11/lib/python3.11/site-packages (from torch) (3.13.1)\n",
      "Requirement already satisfied: typing-extensions>=4.8.0 in /Library/Frameworks/Python.framework/Versions/3.11/lib/python3.11/site-packages (from torch) (4.9.0)\n",
      "Requirement already satisfied: sympy in /Library/Frameworks/Python.framework/Versions/3.11/lib/python3.11/site-packages (from torch) (1.12)\n",
      "Requirement already satisfied: networkx in /Library/Frameworks/Python.framework/Versions/3.11/lib/python3.11/site-packages (from torch) (3.2.1)\n",
      "Requirement already satisfied: jinja2 in /Library/Frameworks/Python.framework/Versions/3.11/lib/python3.11/site-packages (from torch) (3.1.2)\n",
      "Requirement already satisfied: fsspec in /Library/Frameworks/Python.framework/Versions/3.11/lib/python3.11/site-packages (from torch) (2024.2.0)\n",
      "Requirement already satisfied: MarkupSafe>=2.0 in /Library/Frameworks/Python.framework/Versions/3.11/lib/python3.11/site-packages (from jinja2->torch) (2.1.3)\n",
      "Requirement already satisfied: mpmath>=0.19 in /Library/Frameworks/Python.framework/Versions/3.11/lib/python3.11/site-packages (from sympy->torch) (1.3.0)\n"
     ]
    }
   ],
   "source": [
    "!pip install mne\n",
    "!pip install pandas\n",
    "!pip install numpy\n",
    "!pip install mne-icalabel\n",
    "!pip install os\n",
    "!pip install scipy\n",
    "!pip install matplotlib\n",
    "!pip install torch"
   ]
  },
  {
   "cell_type": "code",
   "execution_count": 2,
   "id": "2288a37f-c6f7-4cce-a10b-bbe1fceac9d8",
   "metadata": {
    "jupyter": {
     "source_hidden": true
    }
   },
   "outputs": [],
   "source": [
    "# now, import these modules into your code\n",
    "''' here, we use the wide-spread standard for \n",
    "    pandas and numpy library '''\n",
    "import numpy as np\n",
    "import pandas as pd\n",
    "import mne\n",
    "import os\n",
    "import scipy\n",
    "import matplotlib.pyplot as plt\n",
    "import torch\n",
    "# you can read more documentation about this\n",
    "# extension for mne at: \n",
    "# https://github.com/mne-tools/mne-icalabel/blob/main/examples/00_iclabel.py\n",
    "from mne_icalabel import label_components"
   ]
  },
  {
   "cell_type": "markdown",
   "id": "9b124642-52a9-476b-842b-4591d8086812",
   "metadata": {},
   "source": [
    "# Functions\n",
    "\n"
   ]
  },
  {
   "cell_type": "code",
   "execution_count": 3,
   "id": "100fcfdf-5868-448a-ac74-e022d48df1fc",
   "metadata": {},
   "outputs": [],
   "source": [
    "# function to save to a csv\n",
    "def preprocessed_eeg_to_csv(eeg_data, path):\n",
    "    # Convert the RawArray data to a pandas DataFrame\n",
    "    df = pd.DataFrame(data=eeg_data.get_data().T, columns=eeg_data.ch_names);\n",
    "\n",
    "    path = path.replace(\"data_porn_addiction\\\\raw\", \"data_porn_addiction\\\\preprocessed\");\n",
    "    # Extract the directory path\n",
    "    directory_path = os.path.dirname(path);\n",
    "    # Create the directory if it doesn't exist\n",
    "    os.makedirs(directory_path, exist_ok=True);\n",
    "    # Save the DataFrame to a CSV file\n",
    "    df.to_csv(path, index=False);\n",
    "    print(f'file: {path} --- has been written')\n",
    "    return\n",
    "# files into an organized structure (dictionary)\n",
    "def get_csv_paths_by_subfolder(root_folder):\n",
    "    csv_paths_by_subfolder = {};\n",
    "\n",
    "    # Walk through the directory tree\n",
    "    for root, dirs, files in os.walk(root_folder):\n",
    "        for file in files:\n",
    "            # Check if the file has a .csv extension\n",
    "            if file.endswith('.csv'):\n",
    "                # Get the name of the subfolder\n",
    "                subfolder_name = os.path.basename(root);\n",
    "                \n",
    "                # Construct the full path to the CSV file\n",
    "                csv_path = os.path.join(root, file);\n",
    "\n",
    "                # Append the CSV path to the subfolder's list in the dictionary\n",
    "                if subfolder_name not in csv_paths_by_subfolder:\n",
    "                    csv_paths_by_subfolder[subfolder_name] = [];\n",
    "                csv_paths_by_subfolder[subfolder_name].append(csv_path);\n",
    "\n",
    "    return csv_paths_by_subfolder\n",
    "\n",
    "# function to create eeg_raw objects\n",
    "def import_preprocessed_signals(path, channels):\n",
    "    #ch_names = ['P4','O2','P8','T8','C4','Cz','Fz','F4','Fp2','F8','Fp1','F7','F3','C3','T7','P7','P3','O1','Pz'];\n",
    "\n",
    "    #path to eeg\n",
    "    eeg_pandas = pd.read_csv(path, usecols=channels, delimiter=\",\");\n",
    "    eeg_pandas=eeg_pandas.fillna(0);\n",
    "    \n",
    "    return eeg_pandas\n",
    "\n",
    "# Function to apply bandpass filter to a vector/signal\n",
    "def bandpass_filter(data, lowcut, highcut, fs, order=4):\n",
    "    nyquist = 0.5 * fs;\n",
    "    low = lowcut / nyquist;\n",
    "    high = highcut / nyquist;\n",
    "    b, a = scipy.signal.butter(order, [low, high], btype='band');\n",
    "    filtered_data = scipy.signal.filtfilt(b, a, data);\n",
    "    return filtered_data\n",
    "\n",
    "# map a filter function to every column of a pd.dataframe\n",
    "def eeg_apply_filter(data,lowcut, highcut, fs):\n",
    "    #initialize the df to store the filtered signals\n",
    "    filtered_signal = pd.DataFrame({});\n",
    "    for column in data.columns:\n",
    "        filtered_signal[column] = bandpass_filter(eeg_prepro_test[column].values, lowcut, highcut, fs);\n",
    "    return filtered_signal\n",
    "\n"
   ]
  },
  {
   "cell_type": "code",
   "execution_count": 5,
   "id": "6371071f-7cad-4b4a-969c-df56ed90ed1e",
   "metadata": {},
   "outputs": [],
   "source": [
    "# channels of interest pertaining to prefrontal and frontal areas.\n",
    "ch_names = ['Fz','F4','Fp2','F8','Fp1','F7','F3'];\n",
    "\n",
    "# directory where you stored preprocessed files\n",
    "preprocessed_folder = \"/Users/monica/Documents/data_porn_addiction/prepro\"; # Replace this with the path to your root folder\n",
    "\n",
    "# get all the directories into a {subject: [file1,file2]} structure\n",
    "csv_paths_by_subject = get_csv_paths_by_subfolder(preprocessed_folder);\n",
    "path=csv_paths_by_subject['S1'][0];\n",
    "test = import_preprocessed_signals(path,ch_names);\n"
   ]
  },
  {
   "cell_type": "markdown",
   "id": "5bb6acb3-b72e-438c-bc77-bdaa7a46245a",
   "metadata": {},
   "source": [
    "# Alpha filter"
   ]
  },
  {
   "cell_type": "code",
   "execution_count": 6,
   "id": "88fe3e65-de0d-42de-b8a0-2bb14d999c60",
   "metadata": {},
   "outputs": [
    {
     "ename": "NameError",
     "evalue": "name 'eeg_prepro_test' is not defined",
     "output_type": "error",
     "traceback": [
      "\u001b[0;31m---------------------------------------------------------------------------\u001b[0m",
      "\u001b[0;31mNameError\u001b[0m                                 Traceback (most recent call last)",
      "Cell \u001b[0;32mIn[6], line 5\u001b[0m\n\u001b[1;32m      3\u001b[0m highcut \u001b[38;5;241m=\u001b[39m \u001b[38;5;241m12.0\u001b[39m;  \u001b[38;5;66;03m# Upper cutoff frequency in Hz\u001b[39;00m\n\u001b[1;32m      4\u001b[0m fs \u001b[38;5;241m=\u001b[39m \u001b[38;5;241m250.0\u001b[39m;  \u001b[38;5;66;03m# Sampling frequency in Hz\u001b[39;00m\n\u001b[0;32m----> 5\u001b[0m eeg_band \u001b[38;5;241m=\u001b[39m \u001b[43meeg_apply_filter\u001b[49m\u001b[43m(\u001b[49m\u001b[43mtest\u001b[49m\u001b[43m,\u001b[49m\u001b[43mlowcut\u001b[49m\u001b[43m,\u001b[49m\u001b[43m \u001b[49m\u001b[43mhighcut\u001b[49m\u001b[43m,\u001b[49m\u001b[43m \u001b[49m\u001b[43mfs\u001b[49m\u001b[43m)\u001b[49m;\n",
      "Cell \u001b[0;32mIn[3], line 60\u001b[0m, in \u001b[0;36meeg_apply_filter\u001b[0;34m(data, lowcut, highcut, fs)\u001b[0m\n\u001b[1;32m     57\u001b[0m \u001b[38;5;28;01mdef\u001b[39;00m \u001b[38;5;21meeg_apply_filter\u001b[39m(data,lowcut, highcut, fs):\n\u001b[1;32m     58\u001b[0m     \u001b[38;5;66;03m#initialize the df to store the filtered signals\u001b[39;00m\n\u001b[1;32m     59\u001b[0m     filtered_signal \u001b[38;5;241m=\u001b[39m pd\u001b[38;5;241m.\u001b[39mDataFrame({});\n\u001b[0;32m---> 60\u001b[0m     \u001b[38;5;28;01mfor\u001b[39;00m column \u001b[38;5;129;01min\u001b[39;00m \u001b[43meeg_prepro_test\u001b[49m\u001b[38;5;241m.\u001b[39mcolumns:\n\u001b[1;32m     61\u001b[0m         filtered_signal[column] \u001b[38;5;241m=\u001b[39m bandpass_filter(eeg_prepro_test[column]\u001b[38;5;241m.\u001b[39mvalues, lowcut, highcut, fs);\n\u001b[1;32m     62\u001b[0m     \u001b[38;5;28;01mreturn\u001b[39;00m filtered_signal\n",
      "\u001b[0;31mNameError\u001b[0m: name 'eeg_prepro_test' is not defined"
     ]
    }
   ],
   "source": [
    "# Define alpha filter parameters\n",
    "lowcut = 8.0;  # Lower cutoff frequency in Hz\n",
    "highcut = 12.0;  # Upper cutoff frequency in Hz\n",
    "fs = 250.0;  # Sampling frequency in Hz\n",
    "eeg_band = eeg_apply_filter(test,lowcut, highcut, fs);"
   ]
  },
  {
   "cell_type": "code",
   "execution_count": 29,
   "id": "5f828e1a-ca25-47a0-b6b7-4d5bc0ba2946",
   "metadata": {},
   "outputs": [
    {
     "data": {
      "text/plain": [
       "13751"
      ]
     },
     "execution_count": 29,
     "metadata": {},
     "output_type": "execute_result"
    }
   ],
   "source": [
    "epoch_length_seconds = 5; overlap_seconds =0;\n",
    "eeg_data= eeg_band\n",
    "epoch_length_samples = int(epoch_length_seconds * fs)\n",
    "overlap_samples = int(overlap_seconds * fs)\n",
    "step_samples = epoch_length_samples - overlap_samples\n",
    "n_samples = eeg_data.shape[1];\n",
    "\n",
    "i=0\n",
    "for i in range(0, len(eeg_data) - epoch_length_samples + 1, step_samples):\n",
    "        i=i+1\n",
    "i\n",
    "    #pw_absC1 = eeg_data.iloc[0,0:epoch_length_samples]"
   ]
  },
  {
   "cell_type": "code",
   "execution_count": 31,
   "id": "69e5fa8c-2178-4db8-9793-950f2f8e4e6b",
   "metadata": {},
   "outputs": [
    {
     "data": {
      "text/plain": [
       "1250"
      ]
     },
     "execution_count": 31,
     "metadata": {},
     "output_type": "execute_result"
    }
   ],
   "source": [
    "epoch_length_samples"
   ]
  },
  {
   "cell_type": "code",
   "execution_count": null,
   "id": "0c63aa3f-a4c6-4c84-a85e-980d289f82da",
   "metadata": {},
   "outputs": [],
   "source": []
  }
 ],
 "metadata": {
  "kernelspec": {
   "display_name": "Python 3 (ipykernel)",
   "language": "python",
   "name": "python3"
  },
  "language_info": {
   "codemirror_mode": {
    "name": "ipython",
    "version": 3
   },
   "file_extension": ".py",
   "mimetype": "text/x-python",
   "name": "python",
   "nbconvert_exporter": "python",
   "pygments_lexer": "ipython3",
   "version": "3.11.3"
  }
 },
 "nbformat": 4,
 "nbformat_minor": 5
}
