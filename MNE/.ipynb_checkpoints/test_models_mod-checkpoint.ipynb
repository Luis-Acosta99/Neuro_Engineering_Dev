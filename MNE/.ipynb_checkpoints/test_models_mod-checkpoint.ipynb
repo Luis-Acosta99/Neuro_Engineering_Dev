{
 "cells": [
  {
   "cell_type": "markdown",
   "id": "7ce426c2-d82f-4eb3-9d52-7706cdc0afb5",
   "metadata": {},
   "source": [
    "# Requirements"
   ]
  },
  {
   "cell_type": "code",
   "execution_count": 6,
   "id": "2288a37f-c6f7-4cce-a10b-bbe1fceac9d8",
   "metadata": {
    "scrolled": true
   },
   "outputs": [
    {
     "name": "stdout",
     "output_type": "stream",
     "text": [
      "Requirement already satisfied: scikit-learn in /Library/Frameworks/Python.framework/Versions/3.11/lib/python3.11/site-packages (1.4.1.post1)\n",
      "Requirement already satisfied: numpy<2.0,>=1.19.5 in /Library/Frameworks/Python.framework/Versions/3.11/lib/python3.11/site-packages (from scikit-learn) (1.26.2)\n",
      "Requirement already satisfied: scipy>=1.6.0 in /Library/Frameworks/Python.framework/Versions/3.11/lib/python3.11/site-packages (from scikit-learn) (1.11.4)\n",
      "Requirement already satisfied: joblib>=1.2.0 in /Library/Frameworks/Python.framework/Versions/3.11/lib/python3.11/site-packages (from scikit-learn) (1.3.2)\n",
      "Requirement already satisfied: threadpoolctl>=2.0.0 in /Library/Frameworks/Python.framework/Versions/3.11/lib/python3.11/site-packages (from scikit-learn) (3.3.0)\n"
     ]
    }
   ],
   "source": [
    "# now, import these modules into your code\n",
    "''' here, we use the wide-spread standard for \n",
    "    pandas and numpy library '''\n",
    "!pip install scikit-learn\n",
    "from sklearn.model_selection import train_test_split\n",
    "from sklearn.linear_model import LogisticRegression\n",
    "from sklearn.metrics import accuracy_score\n",
    "from sklearn.model_selection import cross_val_score\n",
    "from sklearn.discriminant_analysis import LinearDiscriminantAnalysis\n",
    "import numpy as np\n",
    "import pandas as pd\n",
    "import mne\n",
    "import os\n",
    "import scipy\n",
    "import matplotlib.pyplot as plt\n",
    "import torch\n",
    "import re\n",
    "# you can read more documentation about this\n",
    "# extension for mne at: \n",
    "# https://github.com/mne-tools/mne-icalabel/blob/main/examples/00_iclabel.py\n",
    "from mne_icalabel import label_components"
   ]
  },
  {
   "cell_type": "markdown",
   "id": "9b124642-52a9-476b-842b-4591d8086812",
   "metadata": {},
   "source": [
    "# Functions\n",
    "\n"
   ]
  },
  {
   "cell_type": "code",
   "execution_count": 2,
   "id": "100fcfdf-5868-448a-ac74-e022d48df1fc",
   "metadata": {},
   "outputs": [],
   "source": [
    "# function to save to a csv\n",
    "def preprocessed_eeg_to_csv(eeg_data, path):\n",
    "    # Convert the RawArray data to a pandas DataFrame\n",
    "    df = pd.DataFrame(data=eeg_data.get_data().T, columns=eeg_data.ch_names);\n",
    "\n",
    "    path = path.replace(\"data_porn_addiction\\\\raw\", \"data_porn_addiction\\\\preprocessed\");\n",
    "    # Extract the directory path\n",
    "    directory_path = os.path.dirname(path);\n",
    "    # Create the directory if it doesn't exist\n",
    "    os.makedirs(directory_path, exist_ok=True);\n",
    "    # Save the DataFrame to a CSV file\n",
    "    df.to_csv(path, index=False);\n",
    "    print(f'file: {path} --- has been written')\n",
    "    return\n",
    "# files into an organized structure (dictionary)\n",
    "def get_csv_paths_by_subfolder(root_folder):\n",
    "    csv_paths_by_subfolder = {};\n",
    "\n",
    "    # Walk through the directory tree\n",
    "    for root, dirs, files in os.walk(root_folder):\n",
    "        for file in files:\n",
    "            # Check if the file has a .csv extension\n",
    "            if file.endswith('.csv'):\n",
    "                # Get the name of the subfolder\n",
    "                subfolder_name = os.path.basename(root);\n",
    "                \n",
    "                # Construct the full path to the CSV file\n",
    "                csv_path = os.path.join(root, file);\n",
    "\n",
    "                # Append the CSV path to the subfolder's list in the dictionary\n",
    "                if subfolder_name not in csv_paths_by_subfolder:\n",
    "                    csv_paths_by_subfolder[subfolder_name] = [];\n",
    "                csv_paths_by_subfolder[subfolder_name].append(csv_path);\n",
    "\n",
    "    return csv_paths_by_subfolder\n",
    "\n",
    "# function to create eeg_raw objects\n",
    "def import_preprocessed_signals(path, channels):\n",
    "    #ch_names = ['P4','O2','P8','T8','C4','Cz','Fz','F4','Fp2','F8','Fp1','F7','F3','C3','T7','P7','P3','O1','Pz'];\n",
    "\n",
    "    #path to eeg\n",
    "    eeg_pandas = pd.read_csv(path, usecols=channels, delimiter=\",\");\n",
    "    eeg_pandas=eeg_pandas.fillna(0);\n",
    "    \n",
    "    return eeg_pandas\n",
    "\n",
    "# Function to apply bandpass filter to a vector/signal\n",
    "def bandpass_filter(data, lowcut, highcut, fs, order=4):\n",
    "    nyquist = 0.5 * fs;\n",
    "    low = lowcut / nyquist;\n",
    "    high = highcut / nyquist;\n",
    "    b, a = scipy.signal.butter(order, [low, high], btype='band');\n",
    "    filtered_data = scipy.signal.filtfilt(b, a, data);\n",
    "    return filtered_data\n",
    "\n",
    "# map a filter function to every column of a pd.dataframe\n",
    "def eeg_apply_filter(data,lowcut, highcut, fs):\n",
    "    #initialize the df to store the filtered signals\n",
    "    filtered_signal = pd.DataFrame({});\n",
    "    for column in data.columns:\n",
    "        filtered_signal[column] = bandpass_filter(data[column].values, lowcut, highcut, fs);\n",
    "    return filtered_signal\n",
    "\n"
   ]
  },
  {
   "cell_type": "markdown",
   "id": "5bb6acb3-b72e-438c-bc77-bdaa7a46245a",
   "metadata": {},
   "source": [
    "# Alpha filter"
   ]
  },
  {
   "cell_type": "code",
   "execution_count": 3,
   "id": "88fe3e65-de0d-42de-b8a0-2bb14d999c60",
   "metadata": {},
   "outputs": [],
   "source": [
    "# Define alpha filter parameters\n",
    "lowcut = 8.0;  # Lower cutoff frequency in Hz\n",
    "highcut = 12.0;  # Upper cutoff frequency in Hz\n",
    "fs = 250.0;  # Sampling frequency in Hz"
   ]
  },
  {
   "cell_type": "code",
   "execution_count": 4,
   "id": "8a104286-f320-462d-89ba-5aabddec2888",
   "metadata": {},
   "outputs": [],
   "source": [
    "csv_paths_by_subject = get_csv_paths_by_subfolder(\"/Users/monica/Documents/data_porn_addiction_prepocessed\");\n",
    "\n",
    "happy = [];\n",
    "sad = [];\n",
    "calm = [];\n",
    "fear = [];\n",
    "\n",
    "#Get the path for the emotion files\n",
    "for subject, files in csv_paths_by_subject.items():\n",
    "    # Separate emotions\n",
    "    path_h = [item for item in files if 'H.csv' in item];\n",
    "    happy.extend(path_h)\n",
    "    path_s = [item for item in files if 'S.csv' in item];\n",
    "    sad.extend(path_s)\n",
    "    path_c = [item for item in files if 'C.csv' in item];\n",
    "    calm.extend(path_c)\n",
    "    path_f = [item for item in files if 'F.csv' in item];\n",
    "    fear.extend(path_f)\n",
    "\n"
   ]
  },
  {
   "cell_type": "code",
   "execution_count": 5,
   "id": "d0b787ca-9a2f-47dd-b0be-02a44f98a2df",
   "metadata": {},
   "outputs": [],
   "source": [
    "#processed_data contains eeg avg signals powers by subject, by window for each electrode\n",
    "ch_names = ['Fz','F4','Fp2','F8','Fp1','F7','F3']; \n",
    "ch_names_s = ['Fz_s','F4_s','Fp2_s','F8_s','Fp1_s','F7_s','F3_s'];\n",
    "ch_names_c = ['Fz_c','F4_c','Fp2_c','F8_c','Fp1_c','F7_c','F3_c'];\n",
    "ch_names_f = ['Fz_f','F4_f','Fp2_f','F8_f','Fp1_f','F7_f','F3_f'];\n",
    "\n",
    "\n",
    "#Select the length for the epochs and window overlap\n",
    "epoch_length_seconds = 5;\n",
    "window_overlap = 2.5;\n",
    "step_samples = int((epoch_length_seconds - window_overlap)* 250);\n",
    "\n",
    "subject_labels = [];  # Initialize list to store subject labels\n",
    "happy_data = [];  # Initialize list to store row data as dictionaries\n",
    "sad_data = [];\n",
    "calm_data = [];\n",
    "fear_data = [];\n",
    "sub = [];\n",
    "\n",
    "for file_h, file_s, file_c, file_f in zip(happy, sad, calm, fear):\n",
    "    #Import data from each path for subject\n",
    "    eeg_band_h = import_preprocessed_signals(file_h, ch_names);\n",
    "    eeg_band_s = import_preprocessed_signals(file_s, ch_names);\n",
    "    eeg_band_c = import_preprocessed_signals(file_c, ch_names);\n",
    "    eeg_band_f = import_preprocessed_signals(file_f, ch_names);\n",
    "    #filter data for alpha\n",
    "    eeg_band_filt_h = eeg_apply_filter(eeg_band_h, lowcut, highcut, fs);\n",
    "    eeg_band_filt_s = eeg_apply_filter(eeg_band_s, lowcut, highcut, fs);\n",
    "    eeg_band_filt_c = eeg_apply_filter(eeg_band_c, lowcut, highcut, fs);\n",
    "    eeg_band_filt_f = eeg_apply_filter(eeg_band_f, lowcut, highcut, fs);\n",
    "    #Get the power of filtered data\n",
    "    eeg_band_pow_h = eeg_band_filt_h.pow(2);\n",
    "    eeg_band_pow_s = eeg_band_filt_s.pow(2);\n",
    "    eeg_band_pow_c = eeg_band_filt_c.pow(2);\n",
    "    eeg_band_pow_f = eeg_band_filt_f.pow(2);\n",
    "    \n",
    "    for i in range(0, eeg_band_pow_h.shape[0] - int(epoch_length_seconds * fs) + 1, step_samples):\n",
    "        #get epochs\n",
    "        window_mean_h = eeg_band_pow_h.iloc[i:i + int(epoch_length_seconds*fs), :].mean();\n",
    "        window_mean_s = eeg_band_pow_s.iloc[i:i + int(epoch_length_seconds*fs), :].mean();\n",
    "        window_mean_c = eeg_band_pow_c.iloc[i:i + int(epoch_length_seconds*fs), :].mean();\n",
    "        window_mean_f = eeg_band_pow_f.iloc[i:i + int(epoch_length_seconds*fs), :].mean();\n",
    "        # Append row data as a dictionary to happy and sad data and also get the subject\n",
    "        happy_data.append(window_mean_h.T.to_dict());\n",
    "        sad_data.append(window_mean_s.T.to_dict());\n",
    "        calm_data.append(window_mean_c.T.to_dict());\n",
    "        fear_data.append(window_mean_f.T.to_dict());\n",
    "        sub.append(file_h.split('/')[-2]);\n",
    "\n",
    "# Create a DataFrame from the list of dictionaries\n",
    "features = pd.DataFrame(happy_data);\n",
    "features_s = pd.DataFrame(sad_data);\n",
    "features_c = pd.DataFrame(calm_data);\n",
    "features_f = pd.DataFrame(fear_data);\n",
    "\n",
    "features[['Fz_s','F4_s','Fp2_s','F8_s','Fp1_s','F7_s','F3_s']]= features_s\n",
    "features[['Fz_c','F4_c','Fp2_c','F8_c','Fp1_c','F7_c','F3_c']]= features_c\n",
    "features[['Fz_f','F4_f','Fp2_f','F8_f','Fp1_f','F7_f','F3_f']]= features_f\n",
    "\n",
    "# Add a new column 'Subject' to the features DataFrame\n",
    "features['Subject'] =  [item.upper() for item in sub];\n",
    "\n",
    "\n",
    "yn = [];\n",
    "addict = [1,5,6,9,10,11,14];\n",
    "no_addict = [2,3,4,7,8,12,13]\n",
    "\n",
    "#Classify if subject is addict or not\n",
    "for subject in features['Subject']:\n",
    "    sub_num = re.split('[sS]',subject)[1]\n",
    "    if int(sub_num) in addict:\n",
    "            yn.append(1);\n",
    "    elif int(sub_num) in no_addict:\n",
    "            yn.append(0);\n",
    "features['AddictBoolean'] = yn\n"
   ]
  },
  {
   "cell_type": "markdown",
   "id": "9bbd4509-48e4-45ba-a0a8-2c37f39a4b50",
   "metadata": {},
   "source": [
    "# Model"
   ]
  },
  {
   "cell_type": "code",
   "execution_count": 7,
   "id": "93ae7268-1b98-4d36-9dbe-399cbc77d11c",
   "metadata": {},
   "outputs": [
    {
     "name": "stdout",
     "output_type": "stream",
     "text": [
      "Accuracy for predicting happy subjects: 0.7076923076923077\n",
      "Accuracy for predicting sad subjects: 0.7384615384615385\n",
      "Accuracy for predicting calm subjects: 0.6615384615384615\n",
      "Accuracy for predicting fear subjects: 0.7538461538461538\n"
     ]
    }
   ],
   "source": [
    "# Selecting feature columns for happy and sad subjects\n",
    "feature_columns_happy = ['Fz', 'F4', 'Fp2', 'F8', 'Fp1', 'F7', 'F3']\n",
    "feature_columns_sad = ['Fz_s', 'F4_s', 'Fp2_s', 'F8_s', 'Fp1_s', 'F7_s', 'F3_s']\n",
    "feature_columns_calm = ['Fz_c','F4_c','Fp2_c','F8_c','Fp1_c','F7_c','F3_c']\n",
    "feature_columns_fear = ['Fz_f','F4_f','Fp2_f','F8_f','Fp1_f','F7_f','F3_f']\n",
    "# Split data into features (X) and labels (y)\n",
    "\n",
    "X_happy = features[feature_columns_happy]\n",
    "X_sad = features[feature_columns_sad]\n",
    "X_calm = features[feature_columns_calm]\n",
    "X_fear = features[feature_columns_fear]\n",
    "y = features['AddictBoolean']\n",
    "\n",
    "# Split the dataset into training and testing sets for happy and sad subjects\n",
    "X_train_happy, X_test_happy, y_train_happy, y_test_happy = train_test_split(X_happy, y, test_size=0.2, random_state=42)\n",
    "X_train_sad, X_test_sad, y_train_sad, y_test_sad = train_test_split(X_sad, y, test_size=0.2, random_state=42)\n",
    "X_train_calm, X_test_calm, y_train_calm, y_test_calm = train_test_split(X_calm, y, test_size=0.2, random_state=42)\n",
    "X_train_fear, X_test_fear, y_train_fear, y_test_fear = train_test_split(X_fear, y, test_size=0.2, random_state=42)\n",
    "\n",
    "\n",
    "# Initialize LDA classifiers for happy and sad data\n",
    "lda_happy = LinearDiscriminantAnalysis()\n",
    "lda_sad = LinearDiscriminantAnalysis()\n",
    "lda_calm = LinearDiscriminantAnalysis()\n",
    "lda_fear = LinearDiscriminantAnalysis()\n",
    "\n",
    "\n",
    "# Fit LDA models on training data for happy and sad subjects\n",
    "lda_happy.fit(X_train_happy, y_train_happy)\n",
    "lda_sad.fit(X_train_sad, y_train_sad)\n",
    "lda_calm.fit(X_train_calm, y_train_calm)\n",
    "lda_fear.fit(X_train_fear, y_train_fear)\n",
    "\n",
    "# Make predictions on the testing data for happy and sad subjects\n",
    "y_pred_happy = lda_happy.predict(X_test_happy)\n",
    "y_pred_sad = lda_sad.predict(X_test_sad)\n",
    "y_pred_calm = lda_calm.predict(X_test_calm)\n",
    "y_pred_fear = lda_fear.predict(X_test_fear)\n",
    "\n",
    "# Calculate accuracy scores for happy and sad subjects\n",
    "accuracy_happy = accuracy_score(y_test_happy, y_pred_happy)\n",
    "accuracy_sad = accuracy_score(y_test_sad, y_pred_sad)\n",
    "accuracy_calm = accuracy_score(y_test_calm, y_pred_calm)\n",
    "accuracy_fear = accuracy_score(y_test_fear, y_pred_fear)\n",
    "\n",
    "# Print accuracy scores for happy and sad subjects\n",
    "print(\"Accuracy for predicting happy subjects:\", accuracy_happy)\n",
    "print(\"Accuracy for predicting sad subjects:\", accuracy_sad)\n",
    "print(\"Accuracy for predicting calm subjects:\", accuracy_calm)\n",
    "print(\"Accuracy for predicting fear subjects:\", accuracy_fear)"
   ]
  },
  {
   "cell_type": "code",
   "execution_count": 9,
   "id": "aa2bb226-2d94-4ac7-b379-78c7b9483905",
   "metadata": {},
   "outputs": [
    {
     "name": "stdout",
     "output_type": "stream",
     "text": [
      "Accuracy for sad and calm: 0.7538461538461538\n"
     ]
    }
   ],
   "source": [
    "# Selecting feature columns\n",
    "feature_columns = ['Fz_f','F4_f','Fp2_f','F8_f','Fp1_f','F7_f','F3_f', 'Fz_s', 'F4_s', 'Fp2_s', 'F8_s', 'Fp1_s', 'F7_s', 'F3_s']\n",
    "\n",
    "# Split data into features (X) and labels (y)\n",
    "X = features[feature_columns]  # Features\n",
    "y = features['AddictBoolean']  # Labels\n",
    "\n",
    "# Split the dataset into training and testing sets\n",
    "X_train, X_test, y_train, y_test = train_test_split(X, y, test_size=0.2, random_state=42)\n",
    "\n",
    "# Initialize LDA classifier\n",
    "lda = LinearDiscriminantAnalysis()\n",
    "\n",
    "# Fit the classifier to the training data\n",
    "lda.fit(X_train, y_train)\n",
    "\n",
    "# Make predictions on the testing data\n",
    "y_pred = lda.predict(X_test)\n",
    "\n",
    "# Calculate accuracy\n",
    "accuracy = accuracy_score(y_test, y_pred)\n",
    "print(\"Accuracy for sad and calm:\", accuracy)\n"
   ]
  },
  {
   "cell_type": "code",
   "execution_count": 12,
   "id": "1948ce1c-c7bf-4729-8446-9df51f8784b0",
   "metadata": {},
   "outputs": [
    {
     "name": "stdout",
     "output_type": "stream",
     "text": [
      "Accuracy for happpy and calm: 0.8307692307692308\n"
     ]
    }
   ],
   "source": [
    "# Selecting feature columns\n",
    "feature_columns = ['Fz','F4','Fp2','F8','Fp1','F7','F3', 'Fz_c', 'F4_c', 'Fp2_c', 'F8_c', 'Fp1_c', 'F7_c', 'F3_c']\n",
    "\n",
    "# Split data into features (X) and labels (y)\n",
    "X = features[feature_columns]  # Features\n",
    "y = features['AddictBoolean']  # Labels\n",
    "\n",
    "# Split the dataset into training and testing sets\n",
    "X_train, X_test, y_train, y_test = train_test_split(X, y, test_size=0.2, random_state=42)\n",
    "\n",
    "# Initialize LDA classifier\n",
    "lda = LinearDiscriminantAnalysis()\n",
    "\n",
    "# Fit the classifier to the training data\n",
    "lda.fit(X_train, y_train)\n",
    "\n",
    "# Make predictions on the testing data\n",
    "y_pred = lda.predict(X_test)\n",
    "\n",
    "# Calculate accuracy\n",
    "accuracy = accuracy_score(y_test, y_pred)\n",
    "print(\"Accuracy for happpy and calm:\", accuracy)\n"
   ]
  },
  {
   "cell_type": "code",
   "execution_count": 10,
   "id": "23bbdc23-b3e1-443f-a83b-54689c538be5",
   "metadata": {},
   "outputs": [
    {
     "data": {
      "image/png": "[encoded data removed]",
      "text/plain": [
       "<Figure size 640x480 with 1 Axes>"
      ]
     },
     "metadata": {},
     "output_type": "display_data"
    }
   ],
   "source": [
    "# Accuracy scores for happy and sad subjects\n",
    "accuracy_scores = [accuracy_happy, accuracy_sad, accuracy_calm, accuracy_fear]\n",
    "labels = ['Happy', 'Sad', 'Calm', 'Fear']\n",
    "\n",
    "# Plotting the bar plot\n",
    "plt.bar(labels, accuracy_scores, color=['blue', 'red', 'lightblue', 'purple'])\n",
    "plt.xlabel('Emotion')\n",
    "plt.ylabel('Accuracy')\n",
    "plt.title('Accuracy of LDA Models for Predicting  Adiction based on emotions')\n",
    "plt.ylim(0, 1)  # Limit y-axis to range between 0 and 1 for better visualization\n",
    "plt.show()\n"
   ]
  },
  {
   "cell_type": "code",
   "execution_count": null,
   "id": "12fe3c21-7e05-4559-b1ec-90ac5c62eaf2",
   "metadata": {},
   "outputs": [],
   "source": []
  }
 ],
 "metadata": {
  "kernelspec": {
   "display_name": "Python 3 (ipykernel)",
   "language": "python",
   "name": "python3"
  },
  "language_info": {
   "codemirror_mode": {
    "name": "ipython",
    "version": 3
   },
   "file_extension": ".py",
   "mimetype": "text/x-python",
   "name": "python",
   "nbconvert_exporter": "python",
   "pygments_lexer": "ipython3",
   "version": "3.11.3"
  }
 },
 "nbformat": 4,
 "nbformat_minor": 5
}
