{
 "cells": [
  {
   "cell_type": "markdown",
   "id": "cd8a4340-75e5-4876-91b6-87f7072aecdf",
   "metadata": {
    "tags": []
   },
   "source": [
    "# Introduction to openBCI"
   ]
  },
  {
   "cell_type": "markdown",
   "id": "a0914320-2cbc-4c02-b2c5-f11baf78eae1",
   "metadata": {},
   "source": [
    "## Initial set-up\n",
    "Below, we see the initial set up needed, aka, the required packages and libraries that you will need to install to make this code work prior to running the rest of the functions hereby made available."
   ]
  },
  {
   "cell_type": "code",
   "execution_count": 3,
   "id": "01300369-146c-4c59-beb3-a875851fd1db",
   "metadata": {
    "collapsed": true,
    "jupyter": {
     "outputs_hidden": true,
     "source_hidden": true
    },
    "tags": []
   },
   "outputs": [
    {
     "name": "stdout",
     "output_type": "stream",
     "text": [
      "Requirement already satisfied: brainflow in c:\\users\\luisf\\documents\\github\\neuro_engineering_dev\\.venv\\lib\\site-packages (5.12.1)\n",
      "Requirement already satisfied: numpy in c:\\users\\luisf\\documents\\github\\neuro_engineering_dev\\.venv\\lib\\site-packages (from brainflow) (1.26.4)\n",
      "Requirement already satisfied: nptyping==1.4.4 in c:\\users\\luisf\\documents\\github\\neuro_engineering_dev\\.venv\\lib\\site-packages (from brainflow) (1.4.4)\n",
      "Requirement already satisfied: typish>=1.7.0 in c:\\users\\luisf\\documents\\github\\neuro_engineering_dev\\.venv\\lib\\site-packages (from nptyping==1.4.4->brainflow) (1.9.3)\n",
      "Requirement already satisfied: numpy in c:\\users\\luisf\\documents\\github\\neuro_engineering_dev\\.venv\\lib\\site-packages (1.26.4)\n",
      "Requirement already satisfied: pandas in c:\\users\\luisf\\documents\\github\\neuro_engineering_dev\\.venv\\lib\\site-packages (2.2.1)\n",
      "Requirement already satisfied: numpy<2,>=1.26.0 in c:\\users\\luisf\\documents\\github\\neuro_engineering_dev\\.venv\\lib\\site-packages (from pandas) (1.26.4)\n",
      "Requirement already satisfied: python-dateutil>=2.8.2 in c:\\users\\luisf\\documents\\github\\neuro_engineering_dev\\.venv\\lib\\site-packages (from pandas) (2.9.0.post0)\n",
      "Requirement already satisfied: pytz>=2020.1 in c:\\users\\luisf\\documents\\github\\neuro_engineering_dev\\.venv\\lib\\site-packages (from pandas) (2024.1)\n",
      "Requirement already satisfied: tzdata>=2022.7 in c:\\users\\luisf\\documents\\github\\neuro_engineering_dev\\.venv\\lib\\site-packages (from pandas) (2024.1)\n",
      "Requirement already satisfied: six>=1.5 in c:\\users\\luisf\\documents\\github\\neuro_engineering_dev\\.venv\\lib\\site-packages (from python-dateutil>=2.8.2->pandas) (1.16.0)\n",
      "Requirement already satisfied: PyQt5 in c:\\users\\luisf\\documents\\github\\neuro_engineering_dev\\.venv\\lib\\site-packages (5.15.10)\n",
      "Requirement already satisfied: PyQt5-sip<13,>=12.13 in c:\\users\\luisf\\documents\\github\\neuro_engineering_dev\\.venv\\lib\\site-packages (from PyQt5) (12.13.0)\n",
      "Requirement already satisfied: PyQt5-Qt5>=5.15.2 in c:\\users\\luisf\\documents\\github\\neuro_engineering_dev\\.venv\\lib\\site-packages (from PyQt5) (5.15.2)\n",
      "Requirement already satisfied: PyQT6 in c:\\users\\luisf\\documents\\github\\neuro_engineering_dev\\.venv\\lib\\site-packages (6.6.1)\n",
      "Requirement already satisfied: PyQt6-sip<14,>=13.6 in c:\\users\\luisf\\documents\\github\\neuro_engineering_dev\\.venv\\lib\\site-packages (from PyQT6) (13.6.0)\n",
      "Requirement already satisfied: PyQt6-Qt6>=6.6.0 in c:\\users\\luisf\\documents\\github\\neuro_engineering_dev\\.venv\\lib\\site-packages (from PyQT6) (6.6.2)\n",
      "Collecting setuptools\n",
      "  Downloading setuptools-69.1.1-py3-none-any.whl.metadata (6.2 kB)\n",
      "Downloading setuptools-69.1.1-py3-none-any.whl (819 kB)\n",
      "   ---------------------------------------- 0.0/819.3 kB ? eta -:--:--\n",
      "   ---------------------------------------- 10.2/819.3 kB ? eta -:--:--\n",
      "   ---------------------------------------- 10.2/819.3 kB ? eta -:--:--\n",
      "   - ------------------------------------- 30.7/819.3 kB 325.1 kB/s eta 0:00:03\n",
      "   ---- ---------------------------------- 92.2/819.3 kB 581.0 kB/s eta 0:00:02\n",
      "   ----- -------------------------------- 112.6/819.3 kB 656.4 kB/s eta 0:00:02\n",
      "   ----- -------------------------------- 112.6/819.3 kB 656.4 kB/s eta 0:00:02\n",
      "   ----- -------------------------------- 112.6/819.3 kB 656.4 kB/s eta 0:00:02\n",
      "   --------------------- ------------------ 450.6/819.3 kB 1.5 MB/s eta 0:00:01\n",
      "   ---------------------------------- ----- 706.6/819.3 kB 1.9 MB/s eta 0:00:01\n",
      "   ---------------------------------------  819.2/819.3 kB 1.9 MB/s eta 0:00:01\n",
      "   ---------------------------------------  819.2/819.3 kB 1.9 MB/s eta 0:00:01\n",
      "   ---------------------------------------  819.2/819.3 kB 1.9 MB/s eta 0:00:01\n",
      "   ---------------------------------------  819.2/819.3 kB 1.9 MB/s eta 0:00:01\n",
      "   ---------------------------------------  819.2/819.3 kB 1.9 MB/s eta 0:00:01\n",
      "   ---------------------------------------  819.2/819.3 kB 1.9 MB/s eta 0:00:01\n",
      "   ---------------------------------------  819.2/819.3 kB 1.9 MB/s eta 0:00:01\n",
      "   ---------------------------------------- 819.3/819.3 kB 1.2 MB/s eta 0:00:00\n",
      "Installing collected packages: setuptools\n",
      "Successfully installed setuptools-69.1.1\n"
     ]
    }
   ],
   "source": [
    "# install the needed packages|\n",
    "!pip install brainflow\n",
    "!pip install numpy\n",
    "!pip install pandas\n",
    "!pip install PyQt5\n",
    "!pip install PyQT6\n",
    "!pip install setuptools \n",
    "#comment de pruebas"
   ]
  },
  {
   "cell_type": "code",
   "execution_count": 4,
   "id": "1e1baf9e-b27a-415f-806b-62cf23f57bf8",
   "metadata": {},
   "outputs": [],
   "source": [
    "# import the funtions we have placed in the file named functions_openBCI\n",
    "from functions_openBCI import *\n",
    "\n",
    "# Import packages\n",
    "import pandas as pd\n",
    "import time\n",
    "import brainflow\n",
    "import numpy\n",
    "import PyQt5\n"
   ]
  },
  {
   "cell_type": "markdown",
   "id": "46675f09-91ee-4b65-8341-c8d2ebb39c09",
   "metadata": {},
   "source": [
    "## Create board connection"
   ]
  },
  {
   "cell_type": "code",
   "execution_count": 50,
   "id": "c38bb682-bf40-46ed-9a62-60adce5ce3d5",
   "metadata": {
    "tags": []
   },
   "outputs": [
    {
     "name": "stdout",
     "output_type": "stream",
     "text": [
      "Connection to Cyton board established successfully!\n",
      "250\n",
      "Session ended\n"
     ]
    }
   ],
   "source": [
    "btype = \"cyton\"\n",
    "cyton = open_board(btype)\n",
    "\n",
    "try:\n",
    "    time.sleep(2)\n",
    "    signal = cyton.get_board_data(); \n",
    "    time.sleep(60)\n",
    "    signal = cyton.get_board_data(); \n",
    "    print(cyton.get_sampling_rate(0))\n",
    "    #signal_acquisition(cyton)\n",
    "except KeyboardInterrupt: \n",
    "    print('User interrupted the signal acquisition.') # keyboard interrupt in jupyter labs is i i (yes, twice), and in terminal it is ctrl+c\n",
    "\n",
    "\n",
    "close_board(cyton)"
   ]
  },
  {
   "cell_type": "code",
   "execution_count": 51,
   "id": "38341e6b-3b79-410a-97a0-ba03daaa6a58",
   "metadata": {
    "collapsed": true,
    "jupyter": {
     "outputs_hidden": true
    },
    "tags": []
   },
   "outputs": [
    {
     "name": "stdout",
     "output_type": "stream",
     "text": [
      "<class 'numpy.ndarray'>\n",
      "(32, 7506)\n"
     ]
    }
   ],
   "source": [
    "import sys\n",
    "print(type(signal))\n",
    "#print(sys.getsizeof(signal[0]))\n",
    "#print(signal[0].size)\n",
    "print(signal.shape)"
   ]
  },
  {
   "cell_type": "code",
   "execution_count": 45,
   "id": "4605ddf5",
   "metadata": {},
   "outputs": [
    {
     "name": "stdout",
     "output_type": "stream",
     "text": [
      "125\n"
     ]
    }
   ],
   "source": [
    "print(cyton.get_sampling_rate(2))\n"
   ]
  },
  {
   "cell_type": "code",
   "execution_count": 52,
   "id": "5ac372ed",
   "metadata": {},
   "outputs": [
    {
     "data": {
      "text/plain": [
       "60.048"
      ]
     },
     "execution_count": 52,
     "metadata": {},
     "output_type": "execute_result"
    }
   ],
   "source": [
    "7506/125"
   ]
  },
  {
   "cell_type": "code",
   "execution_count": null,
   "id": "038e4528",
   "metadata": {},
   "outputs": [],
   "source": []
  }
 ],
 "metadata": {
  "kernelspec": {
   "display_name": "Python 3 (ipykernel)",
   "language": "python",
   "name": "python3"
  },
  "language_info": {
   "codemirror_mode": {
    "name": "ipython",
    "version": 3
   },
   "file_extension": ".py",
   "mimetype": "text/x-python",
   "name": "python",
   "nbconvert_exporter": "python",
   "pygments_lexer": "ipython3",
   "version": "3.12.2"
  }
 },
 "nbformat": 4,
 "nbformat_minor": 5
}
