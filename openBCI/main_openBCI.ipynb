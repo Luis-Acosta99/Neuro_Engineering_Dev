{
 "cells": [
  {
   "cell_type": "markdown",
   "id": "cd8a4340-75e5-4876-91b6-87f7072aecdf",
   "metadata": {
    "tags": []
   },
   "source": [
    "# Introduction to openBCI"
   ]
  },
  {
   "cell_type": "markdown",
   "id": "a0914320-2cbc-4c02-b2c5-f11baf78eae1",
   "metadata": {},
   "source": [
    "## Initial set-up\n",
    "Below, we see the initial set up needed, aka, the required packages and libraries that you will need to install to make this code work prior to running the rest of the functions hereby made available."
   ]
  },
  {
   "cell_type": "code",
   "execution_count": 8,
   "id": "01300369-146c-4c59-beb3-a875851fd1db",
   "metadata": {
    "collapsed": true,
    "jupyter": {
     "outputs_hidden": true
    },
    "tags": []
   },
   "outputs": [
    {
     "name": "stdout",
     "output_type": "stream",
     "text": [
      "Collecting brainflow\n",
      "  Downloading brainflow-5.12.0-py3-none-any.whl (28.7 MB)\n",
      "     ---------------------------------------- 28.7/28.7 MB 6.9 MB/s eta 0:00:00\n",
      "Collecting nptyping==1.4.4\n",
      "  Downloading nptyping-1.4.4-py3-none-any.whl (31 kB)\n",
      "Requirement already satisfied: numpy in c:\\users\\luisf\\anaconda3\\lib\\site-packages (from brainflow) (1.21.5)\n",
      "Collecting typish>=1.7.0\n",
      "  Downloading typish-1.9.3-py3-none-any.whl (45 kB)\n",
      "     -------------------------------------- 45.1/45.1 kB 117.2 kB/s eta 0:00:00\n",
      "Installing collected packages: typish, nptyping, brainflow\n",
      "Successfully installed brainflow-5.12.0 nptyping-1.4.4 typish-1.9.3\n"
     ]
    }
   ],
   "source": [
    "# install the needed packages|\n",
    "!pip install brainflow"
   ]
  },
  {
   "cell_type": "code",
   "execution_count": 5,
   "id": "1e1baf9e-b27a-415f-806b-62cf23f57bf8",
   "metadata": {},
   "outputs": [],
   "source": [
    "# import the funtions we have placed in the file named functions_openBCI\n",
    "from functions_openBCI import *\n",
    "\n",
    "# Import packages\n",
    "import pandas as pd"
   ]
  },
  {
   "cell_type": "markdown",
   "id": "46675f09-91ee-4b65-8341-c8d2ebb39c09",
   "metadata": {},
   "source": [
    "## Create board connection"
   ]
  },
  {
   "cell_type": "code",
   "execution_count": 4,
   "id": "92e92beb-b417-4eec-ae6f-22c0609e2bcb",
   "metadata": {},
   "outputs": [
    {
     "name": "stdout",
     "output_type": "stream",
     "text": [
      "Hello from a function\n"
     ]
    }
   ],
   "source": [
    "my_function()"
   ]
  },
  {
   "cell_type": "code",
   "execution_count": 13,
   "id": "c38bb682-bf40-46ed-9a62-60adce5ce3d5",
   "metadata": {},
   "outputs": [
    {
     "name": "stderr",
     "output_type": "stream",
     "text": [
      "usage: ipykernel_launcher.py [-h] [--timeout TIMEOUT] [--ip-port IP_PORT] [--ip-protocol IP_PROTOCOL]\n",
      "                             [--ip-address IP_ADDRESS] [--serial-port SERIAL_PORT] [--mac-address MAC_ADDRESS]\n",
      "                             [--other-info OTHER_INFO] [--serial-number SERIAL_NUMBER] --board-id BOARD_ID [--file FILE]\n",
      "                             [--master-board MASTER_BOARD]\n",
      "ipykernel_launcher.py: error: the following arguments are required: --board-id\n"
     ]
    },
    {
     "ename": "SystemExit",
     "evalue": "2",
     "output_type": "error",
     "traceback": [
      "An exception has occurred, use %tb to see the full traceback.\n",
      "\u001b[1;31mSystemExit\u001b[0m\u001b[1;31m:\u001b[0m 2\n"
     ]
    }
   ],
   "source": [
    "import argparse\n",
    "import time\n",
    "\n",
    "from brainflow.board_shim import BoardShim, BrainFlowInputParams, BoardIds, BrainFlowPresets\n",
    "\n",
    "\n",
    "def main():\n",
    "    BoardShim.enable_dev_board_logger()\n",
    "\n",
    "    parser = argparse.ArgumentParser()\n",
    "    # use docs to check which parameters are required for specific board, e.g. for Cyton - set serial port\n",
    "    parser.add_argument('--timeout', type=int, help='timeout for device discovery or connection', required=False,\n",
    "                        default=0)\n",
    "    parser.add_argument('--ip-port', type=int, help='ip port', required=False, default=0)\n",
    "    parser.add_argument('--ip-protocol', type=int, help='ip protocol, check IpProtocolType enum', required=False,\n",
    "                        default=0)\n",
    "    parser.add_argument('--ip-address', type=str, help='ip address', required=False, default='')\n",
    "    parser.add_argument('--serial-port', type=str, help='serial port', required=False, default='')\n",
    "    parser.add_argument('--mac-address', type=str, help='mac address', required=False, default='')\n",
    "    parser.add_argument('--other-info', type=str, help='other info', required=False, default='')\n",
    "    parser.add_argument('--serial-number', type=str, help='serial number', required=False, default='')\n",
    "    parser.add_argument('--board-id', type=int, help='board id, check docs to get a list of supported boards',\n",
    "                        required=True)\n",
    "    parser.add_argument('--file', type=str, help='file', required=False, default='')\n",
    "    parser.add_argument('--master-board', type=int, help='master board id for streaming and playback boards',\n",
    "                        required=False, default=BoardIds.NO_BOARD)\n",
    "    args = parser.parse_args()\n",
    "\n",
    "    params = BrainFlowInputParams()\n",
    "    params.ip_port = args.ip_port\n",
    "    params.serial_port = args.serial_port\n",
    "    params.mac_address = args.mac_address\n",
    "    params.other_info = args.other_info\n",
    "    params.serial_number = args.serial_number\n",
    "    params.ip_address = args.ip_address\n",
    "    params.ip_protocol = args.ip_protocol\n",
    "    params.timeout = args.timeout\n",
    "    params.file = args.file\n",
    "    params.master_board = args.master_board\n",
    "\n",
    "    board = BoardShim(args.board_id, params)\n",
    "    board.prepare_session()\n",
    "    board.start_stream ()\n",
    "    time.sleep(10)\n",
    "    # data = board.get_current_board_data (256) # get latest 256 packages or less, doesnt remove them from internal buffer\n",
    "    data = board.get_board_data()  # get all data and remove it from internal buffer\n",
    "    board.stop_stream()\n",
    "    board.release_session()\n",
    "\n",
    "    print(data)\n",
    "\n",
    "\n",
    "if __name__ == \"__main__\":\n",
    "    main()"
   ]
  },
  {
   "cell_type": "code",
   "execution_count": null,
   "id": "38341e6b-3b79-410a-97a0-ba03daaa6a58",
   "metadata": {},
   "outputs": [],
   "source": []
  }
 ],
 "metadata": {
  "kernelspec": {
   "display_name": "Python 3 (ipykernel)",
   "language": "python",
   "name": "python3"
  },
  "language_info": {
   "codemirror_mode": {
    "name": "ipython",
    "version": 3
   },
   "file_extension": ".py",
   "mimetype": "text/x-python",
   "name": "python",
   "nbconvert_exporter": "python",
   "pygments_lexer": "ipython3",
   "version": "3.9.13"
  }
 },
 "nbformat": 4,
 "nbformat_minor": 5
}
