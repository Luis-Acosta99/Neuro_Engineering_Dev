{
 "cells": [
  {
   "cell_type": "markdown",
   "id": "cd8a4340-75e5-4876-91b6-87f7072aecdf",
   "metadata": {
    "tags": []
   },
   "source": [
    "# Introduction to openBCI"
   ]
  },
  {
   "cell_type": "markdown",
   "id": "a0914320-2cbc-4c02-b2c5-f11baf78eae1",
   "metadata": {},
   "source": [
    "## Initial set-up\n",
    "Below, we see the initial set up needed, aka, the required packages and libraries that you will need to install to make this code work prior to running the rest of the functions hereby made available."
   ]
  },
  {
   "cell_type": "code",
   "execution_count": 8,
   "id": "01300369-146c-4c59-beb3-a875851fd1db",
   "metadata": {
    "collapsed": true,
    "jupyter": {
     "outputs_hidden": true,
     "source_hidden": true
    },
    "tags": []
   },
   "outputs": [
    {
     "name": "stdout",
     "output_type": "stream",
     "text": [
      "Collecting brainflow\n",
      "  Downloading brainflow-5.12.0-py3-none-any.whl (28.7 MB)\n",
      "     ---------------------------------------- 28.7/28.7 MB 6.9 MB/s eta 0:00:00\n",
      "Collecting nptyping==1.4.4\n",
      "  Downloading nptyping-1.4.4-py3-none-any.whl (31 kB)\n",
      "Requirement already satisfied: numpy in c:\\users\\luisf\\anaconda3\\lib\\site-packages (from brainflow) (1.21.5)\n",
      "Collecting typish>=1.7.0\n",
      "  Downloading typish-1.9.3-py3-none-any.whl (45 kB)\n",
      "     -------------------------------------- 45.1/45.1 kB 117.2 kB/s eta 0:00:00\n",
      "Installing collected packages: typish, nptyping, brainflow\n",
      "Successfully installed brainflow-5.12.0 nptyping-1.4.4 typish-1.9.3\n"
     ]
    }
   ],
   "source": [
    "# install the needed packages|\n",
    "!pip install brainflow"
   ]
  },
  {
   "cell_type": "code",
   "execution_count": 1,
   "id": "1e1baf9e-b27a-415f-806b-62cf23f57bf8",
   "metadata": {},
   "outputs": [],
   "source": [
    "# import the funtions we have placed in the file named functions_openBCI\n",
    "from functions_openBCI import *\n",
    "\n",
    "# Import packages\n",
    "import pandas as pd\n",
    "import time"
   ]
  },
  {
   "cell_type": "markdown",
   "id": "46675f09-91ee-4b65-8341-c8d2ebb39c09",
   "metadata": {},
   "source": [
    "## Create board connection"
   ]
  },
  {
   "cell_type": "code",
   "execution_count": 9,
   "id": "c38bb682-bf40-46ed-9a62-60adce5ce3d5",
   "metadata": {},
   "outputs": [
    {
     "name": "stdout",
     "output_type": "stream",
     "text": [
      "Connection to Cyton board established successfully!\n",
      "Session ended\n"
     ]
    }
   ],
   "source": [
    "cyton = open_board()\n",
    "\n",
    "try:\n",
    "    time.sleep(2)\n",
    "    signal = cyton.get_board_data(); \n",
    "    #signal_acquisition(cyton)\n",
    "except KeyboardInterrupt: \n",
    "    print('User interrupted the signal acquisition.') # keyboard interrupt in jupyter labs is i i (yes, twice), and in terminal it is ctrl+c\n",
    "\n",
    "close_board(cyton)"
   ]
  },
  {
   "cell_type": "code",
   "execution_count": 10,
   "id": "38341e6b-3b79-410a-97a0-ba03daaa6a58",
   "metadata": {},
   "outputs": [
    {
     "name": "stdout",
     "output_type": "stream",
     "text": [
      "[[0.00000000e+00 2.00000000e+00 4.00000000e+00 ... 1.00000000e+02\n",
      "  1.02000000e+02 1.04000000e+02]\n",
      " [9.37499888e+04 1.87500000e+05 1.87500000e+05 ... 1.87500000e+05\n",
      "  1.87500000e+05 1.87500000e+05]\n",
      " [5.38755049e+04 1.09231567e+05 1.08067555e+05 ... 1.16202964e+05\n",
      "  1.15808233e+05 1.16050391e+05]\n",
      " ...\n",
      " [0.00000000e+00 0.00000000e+00 0.00000000e+00 ... 0.00000000e+00\n",
      "  0.00000000e+00 0.00000000e+00]\n",
      " [1.70865375e+09 1.70865375e+09 1.70865375e+09 ... 1.70865375e+09\n",
      "  1.70865375e+09 1.70865375e+09]\n",
      " [0.00000000e+00 0.00000000e+00 0.00000000e+00 ... 0.00000000e+00\n",
      "  0.00000000e+00 0.00000000e+00]]\n"
     ]
    }
   ],
   "source": [
    "print(signal)"
   ]
  },
  {
   "cell_type": "code",
   "execution_count": 8,
   "id": "f0a5b688-ee7b-4891-9c1b-a06f85811cc8",
   "metadata": {},
   "outputs": [
    {
     "name": "stdout",
     "output_type": "stream",
     "text": [
      "Session ended\n"
     ]
    }
   ],
   "source": [
    "close_board(cyton)"
   ]
  },
  {
   "cell_type": "code",
   "execution_count": null,
   "id": "6d7120aa-b8dd-4373-9f03-db4b17515d17",
   "metadata": {},
   "outputs": [],
   "source": []
  }
 ],
 "metadata": {
  "kernelspec": {
   "display_name": "Python 3 (ipykernel)",
   "language": "python",
   "name": "python3"
  },
  "language_info": {
   "codemirror_mode": {
    "name": "ipython",
    "version": 3
   },
   "file_extension": ".py",
   "mimetype": "text/x-python",
   "name": "python",
   "nbconvert_exporter": "python",
   "pygments_lexer": "ipython3",
   "version": "3.9.13"
  }
 },
 "nbformat": 4,
 "nbformat_minor": 5
}
