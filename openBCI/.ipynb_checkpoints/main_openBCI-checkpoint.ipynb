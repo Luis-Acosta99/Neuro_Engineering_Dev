{
 "cells": [
  {
   "cell_type": "markdown",
   "id": "cd8a4340-75e5-4876-91b6-87f7072aecdf",
   "metadata": {
    "tags": []
   },
   "source": [
    "# Introduction to openBCI"
   ]
  },
  {
   "cell_type": "markdown",
   "id": "a0914320-2cbc-4c02-b2c5-f11baf78eae1",
   "metadata": {},
   "source": [
    "## Initial set-up\n",
    "Below, we see the initial set up needed, aka, the required packages and libraries that you will need to install to make this code work prior to running the rest of the functions hereby made available."
   ]
  },
  {
   "cell_type": "code",
   "execution_count": 8,
   "id": "01300369-146c-4c59-beb3-a875851fd1db",
   "metadata": {
    "collapsed": true,
    "jupyter": {
     "outputs_hidden": true
    },
    "tags": []
   },
   "outputs": [
    {
     "name": "stdout",
     "output_type": "stream",
     "text": [
      "Collecting brainflow\n",
      "  Downloading brainflow-5.12.0-py3-none-any.whl (28.7 MB)\n",
      "     ---------------------------------------- 28.7/28.7 MB 6.9 MB/s eta 0:00:00\n",
      "Collecting nptyping==1.4.4\n",
      "  Downloading nptyping-1.4.4-py3-none-any.whl (31 kB)\n",
      "Requirement already satisfied: numpy in c:\\users\\luisf\\anaconda3\\lib\\site-packages (from brainflow) (1.21.5)\n",
      "Collecting typish>=1.7.0\n",
      "  Downloading typish-1.9.3-py3-none-any.whl (45 kB)\n",
      "     -------------------------------------- 45.1/45.1 kB 117.2 kB/s eta 0:00:00\n",
      "Installing collected packages: typish, nptyping, brainflow\n",
      "Successfully installed brainflow-5.12.0 nptyping-1.4.4 typish-1.9.3\n"
     ]
    }
   ],
   "source": [
    "# install the needed packages|\n",
    "!pip install brainflow"
   ]
  },
  {
   "cell_type": "code",
   "execution_count": 1,
   "id": "1e1baf9e-b27a-415f-806b-62cf23f57bf8",
   "metadata": {},
   "outputs": [],
   "source": [
    "# import the funtions we have placed in the file named functions_openBCI\n",
    "from functions_openBCI import *\n",
    "\n",
    "# Import packages\n",
    "import pandas as pd"
   ]
  },
  {
   "cell_type": "markdown",
   "id": "46675f09-91ee-4b65-8341-c8d2ebb39c09",
   "metadata": {},
   "source": [
    "## Create board connection"
   ]
  },
  {
   "cell_type": "code",
   "execution_count": 4,
   "id": "92e92beb-b417-4eec-ae6f-22c0609e2bcb",
   "metadata": {},
   "outputs": [
    {
     "name": "stdout",
     "output_type": "stream",
     "text": [
      "Hello from a function\n"
     ]
    }
   ],
   "source": [
    "my_function()"
   ]
  },
  {
   "cell_type": "code",
   "execution_count": 2,
   "id": "c38bb682-bf40-46ed-9a62-60adce5ce3d5",
   "metadata": {},
   "outputs": [
    {
     "name": "stdout",
     "output_type": "stream",
     "text": [
      "Connection to Cyton board established successfully!\n",
      "2\n"
     ]
    }
   ],
   "source": [
    "# Step 1: Install BrainFlow library\n",
    "# !pip install brainflow\n",
    "# Step 2: Import necessary modules\n",
    "from brainflow.board_shim import BoardShim, BrainFlowInputParams, BoardIds\n",
    "\n",
    "# Step 3: Initialize the board and set up the connection\n",
    "def connect_to_cyton():\n",
    "    # Set up parameters for Cyton board\n",
    "    params = BrainFlowInputParams()\n",
    "    params.serial_port = 'COM5'  # Update this with your Cyton board's serial port (you can see it in the openBCI GUI)\n",
    "\n",
    "    # Initialize the board\n",
    "    board_id = BoardIds.CYTON_DAISY_BOARD.value\n",
    "\n",
    "    # Connect to the board\n",
    "    board = BoardShim(board_id, params)\n",
    "    board.prepare_session()\n",
    "    \n",
    "    # Start streaming data\n",
    "    board.start_stream()\n",
    "    \n",
    "    return board\n",
    "\n",
    "# Step 4: Confirm the connection\n",
    "def confirm_connection(board):\n",
    "    if board.is_prepared():\n",
    "        print(\"Connection to Cyton board established successfully!\")\n",
    "    else:\n",
    "        print(\"Failed to establish connection to Cyton board.\")\n",
    "\n",
    "# Main function to execute the connection\n",
    "def main():\n",
    "    board = connect_to_cyton()\n",
    "    confirm_connection(board)\n",
    "    \n",
    "    #\n",
    "    print(board.get_board_id())\n",
    "    \n",
    "    # \n",
    "    board.stop_stream()\n",
    "    board.release_session()\n",
    "\n",
    "if __name__ == \"__main__\":\n",
    "    main()\n"
   ]
  },
  {
   "cell_type": "code",
   "execution_count": null,
   "id": "38341e6b-3b79-410a-97a0-ba03daaa6a58",
   "metadata": {},
   "outputs": [],
   "source": []
  },
  {
   "cell_type": "code",
   "execution_count": null,
   "id": "f0a5b688-ee7b-4891-9c1b-a06f85811cc8",
   "metadata": {},
   "outputs": [],
   "source": []
  }
 ],
 "metadata": {
  "kernelspec": {
   "display_name": "Python 3 (ipykernel)",
   "language": "python",
   "name": "python3"
  },
  "language_info": {
   "codemirror_mode": {
    "name": "ipython",
    "version": 3
   },
   "file_extension": ".py",
   "mimetype": "text/x-python",
   "name": "python",
   "nbconvert_exporter": "python",
   "pygments_lexer": "ipython3",
   "version": "3.9.13"
  }
 },
 "nbformat": 4,
 "nbformat_minor": 5
}
