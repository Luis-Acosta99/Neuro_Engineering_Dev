{
 "cells": [
  {
   "cell_type": "markdown",
   "id": "cd8a4340-75e5-4876-91b6-87f7072aecdf",
   "metadata": {
    "tags": []
   },
   "source": [
    "# Introduction to openBCI"
   ]
  },
  {
   "cell_type": "markdown",
   "id": "a0914320-2cbc-4c02-b2c5-f11baf78eae1",
   "metadata": {},
   "source": [
    "## Initial set-up\n",
    "Below, we see the initial set up needed, aka, the required packages and libraries that you will need to install to make this code work prior to running the rest of the functions hereby made available."
   ]
  },
  {
   "cell_type": "code",
   "execution_count": 8,
   "id": "01300369-146c-4c59-beb3-a875851fd1db",
   "metadata": {
    "collapsed": true,
    "jupyter": {
     "outputs_hidden": true
    },
    "tags": []
   },
   "outputs": [
    {
     "name": "stdout",
     "output_type": "stream",
     "text": [
      "Collecting brainflow\n",
      "  Downloading brainflow-5.12.0-py3-none-any.whl (28.7 MB)\n",
      "     ---------------------------------------- 28.7/28.7 MB 6.9 MB/s eta 0:00:00\n",
      "Collecting nptyping==1.4.4\n",
      "  Downloading nptyping-1.4.4-py3-none-any.whl (31 kB)\n",
      "Requirement already satisfied: numpy in c:\\users\\luisf\\anaconda3\\lib\\site-packages (from brainflow) (1.21.5)\n",
      "Collecting typish>=1.7.0\n",
      "  Downloading typish-1.9.3-py3-none-any.whl (45 kB)\n",
      "     -------------------------------------- 45.1/45.1 kB 117.2 kB/s eta 0:00:00\n",
      "Installing collected packages: typish, nptyping, brainflow\n",
      "Successfully installed brainflow-5.12.0 nptyping-1.4.4 typish-1.9.3\n"
     ]
    }
   ],
   "source": [
    "# install the needed packages|\n",
    "!pip install brainflow\n",
    "!pip install numpy\n",
    "!pip install pandas\n",
    "!pip install PyQt5\n",
    "#comment de pruebas"
   ]
  },
  {
   "cell_type": "code",
   "execution_count": 1,
   "id": "1e1baf9e-b27a-415f-806b-62cf23f57bf8",
   "metadata": {},
   "outputs": [],
   "source": [
    "# import the funtions we have placed in the file named functions_openBCI\n",
    "from functions_openBCI import *\n",
    "\n",
    "# Import packages\n",
    "import pandas as pd\n",
    "import time\n",
    "import brainflow\n",
    "import numpy\n",
    "import PyQt5\n"
   ]
  },
  {
   "cell_type": "markdown",
   "id": "46675f09-91ee-4b65-8341-c8d2ebb39c09",
   "metadata": {},
   "source": [
    "## Create board connection"
   ]
  },
  {
   "cell_type": "code",
   "execution_count": 2,
   "id": "c38bb682-bf40-46ed-9a62-60adce5ce3d5",
   "metadata": {
    "tags": []
   },
   "outputs": [
    {
     "name": "stdout",
     "output_type": "stream",
     "text": [
      "Connection to Cyton board established successfully!\n",
      "Session ended\n"
     ]
    }
   ],
   "source": [
    "btype = \"other\"\n",
    "cyton = open_board(btype)\n",
    "\n",
    "try:\n",
    "    time.sleep(2)\n",
    "    signal = cyton.get_board_data(); \n",
    "    time.sleep(2)\n",
    "    signal = cyton.get_board_data(); \n",
    "    #signal_acquisition(cyton)\n",
    "except KeyboardInterrupt: \n",
    "    print('User interrupted the signal acquisition.') # keyboard interrupt in jupyter labs is i i (yes, twice), and in terminal it is ctrl+c\n",
    "\n",
    "close_board(cyton)"
   ]
  },
  {
   "cell_type": "code",
   "execution_count": 4,
   "id": "38341e6b-3b79-410a-97a0-ba03daaa6a58",
   "metadata": {
    "collapsed": true,
    "jupyter": {
     "outputs_hidden": true
    },
    "tags": []
   },
   "outputs": [
    {
     "name": "stdout",
     "output_type": "stream",
     "text": [
      "[[0.00000000e+00 1.00000000e+00 2.00000000e+00 ... 2.42000000e+02\n",
      "  2.43000000e+02 2.44000000e+02]\n",
      " [1.17963468e+01 1.34361777e+01 1.49933330e+01 ... 8.30699150e+00\n",
      "  1.00000000e+01 1.18509451e+01]\n",
      " [2.76951118e+01 3.54991758e+01 4.10481613e+01 ... 1.42296985e+01\n",
      "  2.13502697e+01 2.79692143e+01]\n",
      " ...\n",
      " [9.52203454e+01 9.35422855e+01 8.40873079e+01 ... 8.09438721e+01\n",
      "  8.56344832e+01 9.15910204e+01]\n",
      " [1.70916308e+09 1.70916308e+09 1.70916308e+09 ... 1.70916308e+09\n",
      "  1.70916308e+09 1.70916308e+09]\n",
      " [0.00000000e+00 0.00000000e+00 0.00000000e+00 ... 0.00000000e+00\n",
      "  0.00000000e+00 0.00000000e+00]]\n"
     ]
    }
   ],
   "source": [
    "print(signal)"
   ]
  },
  {
   "cell_type": "code",
   "execution_count": 3,
   "id": "5a830861-a2ba-4985-89c6-0923c71f7006",
   "metadata": {
    "tags": []
   },
   "outputs": [
    {
     "name": "stderr",
     "output_type": "stream",
     "text": [
      "C:\\Users\\luisf\\AppData\\Local\\Temp\\ipykernel_24568\\2458593524.py:9: DeprecationWarning: sipPyTypeDict() is deprecated, the extension module should use sipPyTypeDictRef() instead\n",
      "  class PlotUpdater(QMainWindow):\n"
     ]
    },
    {
     "name": "stdout",
     "output_type": "stream",
     "text": [
      "Connection to Cyton board established successfully!\n"
     ]
    },
    {
     "ename": "KeyboardInterrupt",
     "evalue": "",
     "output_type": "error",
     "traceback": [
      "\u001b[1;31m---------------------------------------------------------------------------\u001b[0m",
      "\u001b[1;31mKeyboardInterrupt\u001b[0m                         Traceback (most recent call last)",
      "\u001b[1;32m~\\anaconda3\\lib\\site-packages\\matplotlib\\backends\\backend_qt.py\u001b[0m in \u001b[0;36menterEvent\u001b[1;34m(self, event)\u001b[0m\n\u001b[0;32m    258\u001b[0m         \u001b[1;32mreturn\u001b[0m \u001b[0mx\u001b[0m \u001b[1;33m*\u001b[0m \u001b[0mself\u001b[0m\u001b[1;33m.\u001b[0m\u001b[0mdevice_pixel_ratio\u001b[0m\u001b[1;33m,\u001b[0m \u001b[0my\u001b[0m \u001b[1;33m*\u001b[0m \u001b[0mself\u001b[0m\u001b[1;33m.\u001b[0m\u001b[0mdevice_pixel_ratio\u001b[0m\u001b[1;33m\u001b[0m\u001b[1;33m\u001b[0m\u001b[0m\n\u001b[0;32m    259\u001b[0m \u001b[1;33m\u001b[0m\u001b[0m\n\u001b[1;32m--> 260\u001b[1;33m     \u001b[1;32mdef\u001b[0m \u001b[0menterEvent\u001b[0m\u001b[1;33m(\u001b[0m\u001b[0mself\u001b[0m\u001b[1;33m,\u001b[0m \u001b[0mevent\u001b[0m\u001b[1;33m)\u001b[0m\u001b[1;33m:\u001b[0m\u001b[1;33m\u001b[0m\u001b[1;33m\u001b[0m\u001b[0m\n\u001b[0m\u001b[0;32m    261\u001b[0m         \u001b[1;31m# Force querying of the modifiers, as the cached modifier state can\u001b[0m\u001b[1;33m\u001b[0m\u001b[1;33m\u001b[0m\u001b[0m\n\u001b[0;32m    262\u001b[0m         \u001b[1;31m# have been invalidated while the window was out of focus.\u001b[0m\u001b[1;33m\u001b[0m\u001b[1;33m\u001b[0m\u001b[0m\n",
      "\u001b[1;31mKeyboardInterrupt\u001b[0m: "
     ]
    },
    {
     "ename": "SystemExit",
     "evalue": "0",
     "output_type": "error",
     "traceback": [
      "An exception has occurred, use %tb to see the full traceback.\n",
      "\u001b[1;31mSystemExit\u001b[0m\u001b[1;31m:\u001b[0m 0\n"
     ]
    },
    {
     "name": "stderr",
     "output_type": "stream",
     "text": [
      "C:\\Users\\luisf\\anaconda3\\lib\\site-packages\\IPython\\core\\interactiveshell.py:3465: UserWarning: To exit: use 'exit', 'quit', or Ctrl-D.\n",
      "  warn(\"To exit: use 'exit', 'quit', or Ctrl-D.\", stacklevel=1)\n"
     ]
    },
    {
     "data": {
      "image/png": "[encoded data removed]",
      "text/plain": [
       "<Figure size 778x578 with 1 Axes>"
      ]
     },
     "metadata": {},
     "output_type": "display_data"
    }
   ],
   "source": [
    "import sys\n",
    "import random\n",
    "from PyQt5.QtWidgets import QApplication, QMainWindow, QVBoxLayout, QWidget\n",
    "from PyQt5.QtCore import QTimer\n",
    "import numpy as np\n",
    "import matplotlib.pyplot as plt\n",
    "from matplotlib.backends.backend_qt5agg import FigureCanvasQTAgg as FigureCanvas\n",
    "\n",
    "class PlotUpdater(QMainWindow):\n",
    "    def __init__(self):\n",
    "        super().__init__()\n",
    "\n",
    "        self.setWindowTitle(\"Dynamic Plot with PyQt\")\n",
    "        self.setGeometry(100, 100, 800, 600)\n",
    "\n",
    "        self.central_widget = QWidget()\n",
    "        self.setCentralWidget(self.central_widget)\n",
    "\n",
    "        self.layout = QVBoxLayout()\n",
    "        self.central_widget.setLayout(self.layout)\n",
    "\n",
    "        self.fig, self.ax = plt.subplots()\n",
    "        self.canvas = FigureCanvas(self.fig)\n",
    "        self.layout.addWidget(self.canvas)\n",
    "\n",
    "        self.data = []\n",
    "        \n",
    "    def update_data(self, data):\n",
    "        self.data = data\n",
    "    def update_plot(self):\n",
    "        # Generate random data for the plot\n",
    "        x = self.data\n",
    "        y = [range(len(self.data))]\n",
    "\n",
    "        # Clear previous plot\n",
    "        self.ax.clear()\n",
    "\n",
    "        # Plot new data\n",
    "        self.ax.plot(x, y)\n",
    "\n",
    "        # Update canvas\n",
    "        self.canvas.draw()\n",
    "    def quit(self):\n",
    "        app.quit\n",
    "        \n",
    "# def plot_main():\n",
    "#    app = QApplication(sys.argv)\n",
    "#    window = PlotUpdater()\n",
    "#    window.show()\n",
    "#    sys.exit(app.exec_())\n",
    "\n",
    "# if __name__ == \"__main__\":\n",
    "#    main()\n",
    "\n",
    "btype = \"other\"\n",
    "cyton = open_board(btype)\n",
    "\n",
    "try:\n",
    "    time.sleep(1)\n",
    "    signal = cyton.get_board_data(); \n",
    "    \n",
    "    app = QApplication(sys.argv)\n",
    "    \n",
    "    window = PlotUpdater()\n",
    "    window.update_data(signal)\n",
    "    window.show()\n",
    "    \n",
    "    time.sleep(20)\n",
    "#     signal = cyton.get_board_data(); \n",
    "    \n",
    "#     window.update_data(signal)\n",
    "#     window.show()\n",
    "#     sys.exit(app.exec_())\n",
    "    #signal_acquisition(cyton)\n",
    "    window.quit()\n",
    "    sys.exit(app.exec_())\n",
    "except KeyboardInterrupt: \n",
    "    print('User interrupted the signal acquisition.') # keyboard interrupt in jupyter labs is i i (yes, twice), and in terminal it is ctrl+c\n",
    "\n",
    "close_board(cyton)"
   ]
  },
  {
   "cell_type": "code",
   "execution_count": 4,
   "id": "22d99f99-146c-4eee-a1fb-6c544ab57e44",
   "metadata": {
    "tags": []
   },
   "outputs": [
    {
     "name": "stdout",
     "output_type": "stream",
     "text": [
      "Session ended\n"
     ]
    }
   ],
   "source": [
    "close_board(cyton)"
   ]
  },
  {
   "cell_type": "markdown",
   "id": "8c351f46-2a69-4e37-8829-e0c403ff63e2",
   "metadata": {
    "jp-MarkdownHeadingCollapsed": true,
    "tags": []
   },
   "source": [
    "# REFERENCE CODE FOR WINDOW"
   ]
  },
  {
   "cell_type": "code",
   "execution_count": null,
   "id": "0831d5a6-2fdf-4171-8c6f-4620ccab6b46",
   "metadata": {},
   "outputs": [],
   "source": [
    "import sys\n",
    "import random\n",
    "from PyQt5.QtWidgets import QApplication, QMainWindow, QVBoxLayout, QWidget\n",
    "from PyQt5.QtCore import QTimer\n",
    "import numpy as np\n",
    "import matplotlib.pyplot as plt\n",
    "from matplotlib.backends.backend_qt5agg import FigureCanvasQTAgg as FigureCanvas\n",
    "\n",
    "class PlotUpdater(QMainWindow):\n",
    "    def __init__(self):\n",
    "        super().__init__()\n",
    "\n",
    "        self.setWindowTitle(\"Dynamic Plot with PyQt\")\n",
    "        self.setGeometry(100, 100, 800, 600)\n",
    "\n",
    "        self.central_widget = QWidget()\n",
    "        self.setCentralWidget(self.central_widget)\n",
    "\n",
    "        self.layout = QVBoxLayout()\n",
    "        self.central_widget.setLayout(self.layout)\n",
    "\n",
    "        self.fig, self.ax = plt.subplots()\n",
    "        self.canvas = FigureCanvas(self.fig)\n",
    "        self.layout.addWidget(self.canvas)\n",
    "\n",
    "        self.data = []\n",
    "\n",
    "        # Create a timer to update the plot every 2 seconds\n",
    "        self.timer = QTimer()\n",
    "        self.timer.timeout.connect(self.update_plot)\n",
    "        self.timer.start(2000)  # Interval is in milliseconds (2000 ms = 2 seconds)\n",
    "\n",
    "    def update_plot(self):\n",
    "        # Generate random data for the plot\n",
    "        x = np.arange(len(self.data))\n",
    "        y = [random.randint(0, 10) for _ in range(len(self.data))]\n",
    "\n",
    "        # Clear previous plot\n",
    "        self.ax.clear()\n",
    "\n",
    "        # Plot new data\n",
    "        self.ax.plot(x, y)\n",
    "\n",
    "        # Update canvas\n",
    "        self.canvas.draw()\n",
    "\n",
    "        # Append data for the next update\n",
    "        self.data.append(random.randint(0, 10))\n",
    "\n",
    "def main():\n",
    "    app = QApplication(sys.argv)\n",
    "    window = PlotUpdater()\n",
    "    window.show()\n",
    "    sys.exit(app.exec_())\n",
    "\n",
    "if __name__ == \"__main__\":\n",
    "    main()\n"
   ]
  }
 ],
 "metadata": {
  "kernelspec": {
   "display_name": "Python 3 (ipykernel)",
   "language": "python",
   "name": "python3"
  },
  "language_info": {
   "codemirror_mode": {
    "name": "ipython",
    "version": 3
   },
   "file_extension": ".py",
   "mimetype": "text/x-python",
   "name": "python",
   "nbconvert_exporter": "python",
   "pygments_lexer": "ipython3",
   "version": "3.9.13"
  }
 },
 "nbformat": 4,
 "nbformat_minor": 5
}
