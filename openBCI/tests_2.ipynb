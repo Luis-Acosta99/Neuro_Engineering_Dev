{
 "cells": [
  {
   "cell_type": "code",
   "execution_count": 6,
   "id": "c577ce56",
   "metadata": {},
   "outputs": [
    {
     "name": "stdout",
     "output_type": "stream",
     "text": [
      "1713314436.701697\n"
     ]
    }
   ],
   "source": [
    "import time\n",
    "print (time.time ())"
   ]
  },
  {
   "cell_type": "code",
   "execution_count": 4,
   "id": "46c11d87-de00-4599-a86d-f433c46a392d",
   "metadata": {},
   "outputs": [
    {
     "data": {
      "text/plain": [
       "{'accel_channels': [17, 18, 19],\n",
       " 'analog_channels': [27, 28, 29],\n",
       " 'ecg_channels': [1, 2, 3, 4, 5, 6, 7, 8, 9, 10, 11, 12, 13, 14, 15, 16],\n",
       " 'eeg_channels': [1, 2, 3, 4, 5, 6, 7, 8, 9, 10, 11, 12, 13, 14, 15, 16],\n",
       " 'eeg_names': 'Fp1,Fp2,C3,C4,P7,P8,O1,O2,F7,F8,F3,F4,T7,T8,P3,P4',\n",
       " 'emg_channels': [1, 2, 3, 4, 5, 6, 7, 8, 9, 10, 11, 12, 13, 14, 15, 16],\n",
       " 'eog_channels': [1, 2, 3, 4, 5, 6, 7, 8, 9, 10, 11, 12, 13, 14, 15, 16],\n",
       " 'marker_channel': 31,\n",
       " 'name': 'CytonDaisy',\n",
       " 'num_rows': 32,\n",
       " 'other_channels': [20, 21, 22, 23, 24, 25, 26],\n",
       " 'package_num_channel': 0,\n",
       " 'sampling_rate': 125,\n",
       " 'timestamp_channel': 30}"
      ]
     },
     "execution_count": 4,
     "metadata": {},
     "output_type": "execute_result"
    }
   ],
   "source": [
    "from brainflow.board_shim import BoardShim, BoardIds\n",
    "\n",
    "board_id = BoardIds.CYTON_DAISY_BOARD.value\n",
    "BoardShim.get_board_descr(board_id)"
   ]
  },
  {
   "cell_type": "code",
   "execution_count": 5,
   "id": "ac49129d",
   "metadata": {},
   "outputs": [
    {
     "data": {
      "text/plain": [
       "{'accel_channels': [17, 18, 19],\n",
       " 'battery_channel': 29,\n",
       " 'ecg_channels': [1, 2, 3, 4, 5, 6, 7, 8, 9, 10, 11, 12, 13, 14, 15, 16],\n",
       " 'eda_channels': [23],\n",
       " 'eeg_channels': [1, 2, 3, 4, 5, 6, 7, 8, 9, 10, 11, 12, 13, 14, 15, 16],\n",
       " 'eeg_names': 'Fz,C3,Cz,C4,Pz,PO7,Oz,PO8,F5,F7,F3,F1,F2,F4,F6,F8',\n",
       " 'emg_channels': [1, 2, 3, 4, 5, 6, 7, 8, 9, 10, 11, 12, 13, 14, 15, 16],\n",
       " 'eog_channels': [1, 2, 3, 4, 5, 6, 7, 8, 9, 10, 11, 12, 13, 14, 15, 16],\n",
       " 'gyro_channels': [20, 21, 22],\n",
       " 'marker_channel': 31,\n",
       " 'name': 'Synthetic',\n",
       " 'num_rows': 32,\n",
       " 'package_num_channel': 0,\n",
       " 'ppg_channels': [24, 25],\n",
       " 'resistance_channels': [27, 28],\n",
       " 'sampling_rate': 250,\n",
       " 'temperature_channels': [26],\n",
       " 'timestamp_channel': 30}"
      ]
     },
     "execution_count": 5,
     "metadata": {},
     "output_type": "execute_result"
    }
   ],
   "source": [
    "board_id = BoardIds.SYNTHETIC_BOARD.value\n",
    "BoardShim.get_board_descr(board_id)"
   ]
  },
  {
   "cell_type": "code",
   "execution_count": null,
   "id": "72a75b66",
   "metadata": {},
   "outputs": [],
   "source": []
  }
 ],
 "metadata": {
  "kernelspec": {
   "display_name": "Python 3 (ipykernel)",
   "language": "python",
   "name": "python3"
  },
  "language_info": {
   "codemirror_mode": {
    "name": "ipython",
    "version": 3
   },
   "file_extension": ".py",
   "mimetype": "text/x-python",
   "name": "python",
   "nbconvert_exporter": "python",
   "pygments_lexer": "ipython3",
   "version": "3.12.2"
  }
 },
 "nbformat": 4,
 "nbformat_minor": 5
}
